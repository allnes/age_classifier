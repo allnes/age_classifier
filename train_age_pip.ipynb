{
  "nbformat": 4,
  "nbformat_minor": 0,
  "metadata": {
    "colab": {
      "name": "pcam_train.ipynb",
      "provenance": [],
      "machine_shape": "hm",
      "include_colab_link": true
    },
    "kernelspec": {
      "name": "python3",
      "display_name": "Python 3"
    },
    "accelerator": "GPU"
  },
  "cells": [
    {
      "cell_type": "markdown",
      "metadata": {
        "id": "view-in-github",
        "colab_type": "text"
      },
      "source": [
        "<a href=\"https://colab.research.google.com/github/allnes/age_classifier/blob/master/train_age_pip.ipynb\" target=\"_parent\"><img src=\"https://colab.research.google.com/assets/colab-badge.svg\" alt=\"Open In Colab\"/></a>"
      ]
    },
    {
      "cell_type": "markdown",
      "metadata": {
        "id": "-6Xki-tu-rQH",
        "colab_type": "text"
      },
      "source": [
        "## Connect to Google Drive"
      ]
    },
    {
      "cell_type": "code",
      "metadata": {
        "id": "_nMY9IssT-NZ",
        "colab_type": "code",
        "outputId": "226a797d-34eb-4692-8356-1c395a2020cb",
        "colab": {
          "base_uri": "https://localhost:8080/",
          "height": 150
        }
      },
      "source": [
        "from google.colab import drive\n",
        "import os, natsort as nsrt, numpy as np, re\n",
        "from scipy.sparse import coo_matrix, csgraph\n",
        "import matplotlib.pyplot as plt\n",
        "!pip install ChebyGCN\n",
        "\n",
        "drive.mount('/content/drive')\n",
        "PATH_PROJECT='/content/drive/My Drive/DL_DATA_GRAPH/'\n",
        "PATH_CNN_REPO=PATH_PROJECT + 'BUILD/cnn_graph/'\n",
        "os.chdir(PATH_CNN_REPO)\n",
        "from lib import models, graph, coarsening, utils\n",
        "%ls\n",
        "\n",
        "# !git clone https://github.com/mdeff/cnn_graph\n",
        "!git pull origin master\n",
        "\n",
        "os.chdir(PATH_PROJECT)\n",
        "%ls\n",
        "%matplotlib inline"
      ],
      "execution_count": 9,
      "outputs": [
        {
          "output_type": "stream",
          "text": [
            "Requirement already satisfied: ChebyGCN in /usr/local/lib/python3.6/dist-packages (0.0.3)\n",
            "Drive already mounted at /content/drive; to attempt to forcibly remount, call drive.mount(\"/content/drive\", force_remount=True).\n",
            "\u001b[0m\u001b[01;34mlib\u001b[0m/         makefile   rcv1.ipynb  requirements.txt  usage.ipynb\n",
            "LICENSE.txt  \u001b[01;34mnips2016\u001b[0m/  README.md   \u001b[01;34mtrials\u001b[0m/\n",
            "From https://github.com/mdeff/cnn_graph\n",
            " * branch            master     -> FETCH_HEAD\n",
            "Already up to date.\n",
            "\u001b[0m\u001b[01;34mBUILD\u001b[0m/  \u001b[01;34mDATA\u001b[0m/\n"
          ],
          "name": "stdout"
        }
      ]
    },
    {
      "cell_type": "markdown",
      "metadata": {
        "id": "R0w9O8In_oEO",
        "colab_type": "text"
      },
      "source": [
        "## Preprocessing data"
      ]
    },
    {
      "cell_type": "code",
      "metadata": {
        "id": "flIZlmyt_r9B",
        "colab_type": "code",
        "outputId": "9a957993-02fe-4c9c-df67-e1b66293fbfb",
        "colab": {
          "base_uri": "https://localhost:8080/",
          "height": 314
        }
      },
      "source": [
        "PATH_GRAPHS=PATH_PROJECT + 'DATA/mini_graphs/graphs/'\n",
        "list_grpahs = []\n",
        "for (_, _, filenames) in os.walk(PATH_GRAPHS):\n",
        "    list_grpahs = list_grpahs + filenames\n",
        "\n",
        "list_grpahs = nsrt.natsorted(list_grpahs)[0::2]\n",
        "\n",
        "num_samples = int(np.load(PATH_GRAPHS + list_grpahs[0])['num_samples'])\n",
        "num_features = int(np.load(PATH_GRAPHS + list_grpahs[0])['num_features'])\n",
        "\n",
        "X = []\n",
        "for graph_name in [list_grpahs[0]]:\n",
        "# for graph_name in list_grpahs:\n",
        "    with np.load(PATH_GRAPHS + graph_name) as raw_graph:\n",
        "        raw_edges = raw_graph['E'].transpose()\n",
        "        rows = raw_edges[0]\n",
        "        cols = raw_edges[1]\n",
        "        raw_data = raw_graph['D']\n",
        "        plt.hist(rows, bins=1000)\n",
        "        # raw_graph = np.zeros((num_features, num_features))\n",
        "        # index = 0\n",
        "        # for x_ind, y_ind in zip(rows, cols):\n",
        "        #     raw_graph[x_ind][y_ind] = raw_data[index]\n",
        "        #     index +=1\n",
        "        sparse_graph = coo_matrix((raw_data, (rows, cols)),\n",
        "                                  shape=(raw_graph['num_features'],\n",
        "                                        raw_graph['num_features'])).todense()\n",
        "        # X.append(np.resize(raw_graph.copy(), (2, 2)).reshape((4, )))\n",
        "PATH_LABELS=PATH_PROJECT + 'DATA/mini_graphs/GSE87571_samples.txt'\n",
        "\n",
        "raw_file = open(PATH_LABELS, 'r')\n",
        "y = []\n",
        "for line in raw_file.readlines():\n",
        "    match_obj = re.match(r'(GSM[0-9]*)\\s*([M,F])\\s*([0-9]*)\\s*([0-9]*)', line)\n",
        "    if not match_obj is None: \n",
        "        y.append(int(match_obj.group(3)))\n",
        "\n",
        "# assert len(y) == num_samples\n",
        "# assert len(X) == num_samples\n",
        "X = np.array(X)\n",
        "y = np.array(y)\n",
        "print(raw_graph.files)\n",
        "print(X.shape)\n",
        "print(y.shape)"
      ],
      "execution_count": 12,
      "outputs": [
        {
          "output_type": "stream",
          "text": [
            "['M', 'D', 'E', 'num_samples', 'num_features']\n",
            "(0,)\n",
            "(729,)\n"
          ],
          "name": "stdout"
        },
        {
          "output_type": "display_data",
          "data": {
            "image/png": "[encoded data removed]",
            "text/plain": [
              "<Figure size 432x288 with 1 Axes>"
            ]
          },
          "metadata": {
            "tags": []
          }
        }
      ]
    },
    {
      "cell_type": "markdown",
      "metadata": {
        "id": "uoKk77Y_PfWK",
        "colab_type": "text"
      },
      "source": [
        "## Train"
      ]
    },
    {
      "cell_type": "code",
      "metadata": {
        "id": "FisV3-Fidabk",
        "colab_type": "code",
        "colab": {}
      },
      "source": [
        "# from ChebyGCN import layers, coarsening\n",
        "\n",
        "# n_train = (num_samples * 3) // 4\n",
        "# n_val = num_samples // 10\n",
        "\n",
        "# X_train = X[:n_train]\n",
        "# X_val   = X[n_train:n_train+n_val]\n",
        "# X_test  = X[n_train+n_val:]\n",
        "\n",
        "# y_train = y[:n_train] // 10\n",
        "# y_val   = y[n_train:n_train+n_val] // 10\n",
        "# y_test  = y[n_train+n_val:] // 10\n",
        "\n",
        "# print(X[0].todense())\n",
        "# dist, idx = graph.distance_sklearn_metrics(X[0], k=2, metric='euclidean')\n",
        "# A = graph.adjacency(dist, idx).astype(np.float32)\n",
        "\n",
        "# # graphs, perm = coarsening.coarsen(A, levels=3, self_connections=True)\n",
        "# # X_train = coarsening.perm_data(X_train, perm)\n",
        "# # X_test = coarsening.perm_data(X_test, perm)\n",
        "# print(X_train.shape)\n",
        "# L = [coarsening.laplacian(A, normalized=True) for A in X_train]\n",
        "# print(len(L))\n",
        "# # x_input = Input(shape=(X_train.shape[0],))\n",
        "# # x = Reshape((X_train.shape[0],1))(x_input)\n",
        "# # x = layers.GraphConvolution( 8, 2, 20, L[0])(x)\n",
        "# # x = layers.GraphConvolution( 8, 4, 10, L[2])(x)\n",
        "# # x = Flatten()(x)\n",
        "# # x = Dense(66, activation='softmax')(x)"
      ],
      "execution_count": 0,
      "outputs": []
    }
  ]
}