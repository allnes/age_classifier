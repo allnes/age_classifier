{
  "nbformat": 4,
  "nbformat_minor": 0,
  "metadata": {
    "colab": {
      "name": "pcam_train.ipynb",
      "provenance": [],
      "machine_shape": "hm",
      "include_colab_link": true
    },
    "kernelspec": {
      "name": "python3",
      "display_name": "Python 3"
    },
    "accelerator": "GPU"
  },
  "cells": [
    {
      "cell_type": "markdown",
      "metadata": {
        "id": "view-in-github",
        "colab_type": "text"
      },
      "source": [
        "<a href=\"https://colab.research.google.com/github/allnes/age_classifier/blob/master/train_age_pip.ipynb\" target=\"_parent\"><img src=\"https://colab.research.google.com/assets/colab-badge.svg\" alt=\"Open In Colab\"/></a>"
      ]
    },
    {
      "cell_type": "markdown",
      "metadata": {
        "id": "-6Xki-tu-rQH",
        "colab_type": "text"
      },
      "source": [
        "## Connect to Google Drive"
      ]
    },
    {
      "cell_type": "code",
      "metadata": {
        "id": "_nMY9IssT-NZ",
        "colab_type": "code",
        "outputId": "19939bec-1f20-4685-8efc-9671b787adcf",
        "colab": {
          "base_uri": "https://localhost:8080/",
          "height": 332
        }
      },
      "source": [
        "from google.colab import drive\n",
        "import os, natsort as nsrt, numpy as np, re\n",
        "from scipy.sparse import coo_matrix, csgraph, csr_matrix\n",
        "import matplotlib.pyplot as plt\n",
        "!pip install ChebyGCN\n",
        "\n",
        "drive.mount('/content/drive')\n",
        "PATH_PROJECT='/content/drive/My Drive/DL_DATA_GRAPH/'\n",
        "from ChebyGCN import layers, coarsening\n",
        "%matplotlib inline"
      ],
      "execution_count": 1,
      "outputs": [
        {
          "output_type": "stream",
          "text": [
            "Collecting ChebyGCN\n",
            "  Downloading https://files.pythonhosted.org/packages/ce/5c/44ee685d452af7324c6685850ac8a2cc3e5d2a2bc2dea55cdd9a2816ab90/ChebyGCN-0.0.3.tar.gz\n",
            "Building wheels for collected packages: ChebyGCN\n",
            "  Building wheel for ChebyGCN (setup.py) ... \u001b[?25l\u001b[?25hdone\n",
            "  Created wheel for ChebyGCN: filename=ChebyGCN-0.0.3-cp36-none-any.whl size=7656 sha256=5eaac01889da21ea0d517472726e672e83b54aed1436f273e77cc0d94987677c\n",
            "  Stored in directory: /root/.cache/pip/wheels/56/d8/ca/b410394e2032a20ba9696feaab37698718f49af5e8a73690d8\n",
            "Successfully built ChebyGCN\n",
            "Installing collected packages: ChebyGCN\n",
            "Successfully installed ChebyGCN-0.0.3\n",
            "Go to this URL in a browser: https://accounts.google.com/o/oauth2/auth?client_id=947318989803-6bn6qk8qdgf4n4g3pfee6491hc0brc4i.apps.googleusercontent.com&redirect_uri=urn%3aietf%3awg%3aoauth%3a2.0%3aoob&response_type=code&scope=email%20https%3a%2f%2fwww.googleapis.com%2fauth%2fdocs.test%20https%3a%2f%2fwww.googleapis.com%2fauth%2fdrive%20https%3a%2f%2fwww.googleapis.com%2fauth%2fdrive.photos.readonly%20https%3a%2f%2fwww.googleapis.com%2fauth%2fpeopleapi.readonly\n",
            "\n",
            "Enter your authorization code:\n",
            "··········\n",
            "Mounted at /content/drive\n"
          ],
          "name": "stdout"
        },
        {
          "output_type": "display_data",
          "data": {
            "text/html": [
              "<p style=\"color: red;\">\n",
              "The default version of TensorFlow in Colab will soon switch to TensorFlow 2.x.<br>\n",
              "We recommend you <a href=\"https://www.tensorflow.org/guide/migrate\" target=\"_blank\">upgrade</a> now \n",
              "or ensure your notebook will continue to use TensorFlow 1.x via the <code>%tensorflow_version 1.x</code> magic:\n",
              "<a href=\"https://colab.research.google.com/notebooks/tensorflow_version.ipynb\" target=\"_blank\">more info</a>.</p>\n"
            ],
            "text/plain": [
              "<IPython.core.display.HTML object>"
            ]
          },
          "metadata": {
            "tags": []
          }
        },
        {
          "output_type": "stream",
          "text": [
            "Using TensorFlow backend.\n"
          ],
          "name": "stderr"
        }
      ]
    },
    {
      "cell_type": "markdown",
      "metadata": {
        "id": "R0w9O8In_oEO",
        "colab_type": "text"
      },
      "source": [
        "## Preprocessing data"
      ]
    },
    {
      "cell_type": "code",
      "metadata": {
        "id": "flIZlmyt_r9B",
        "colab_type": "code",
        "colab": {}
      },
      "source": [
        "# PATH_GRAPHS=PATH_PROJECT + 'DATA/mini_graphs/graphs/'\n",
        "# list_grpahs = []\n",
        "# for (_, _, filenames) in os.walk(PATH_GRAPHS):\n",
        "#     list_grpahs = list_grpahs + filenames\n",
        "\n",
        "# list_grpahs = nsrt.natsorted(list_grpahs)[0::2]\n",
        "\n",
        "# num_samples = int(np.load(PATH_GRAPHS + list_grpahs[0])['num_samples'])\n",
        "# num_features = int(np.load(PATH_GRAPHS + list_grpahs[0])['num_features'])\n",
        "\n",
        "# list_of_rows = []\n",
        "# list_of_cols = []\n",
        "# list_of_max_vertices = []\n",
        "# list_of_data = []\n",
        "\n",
        "# for graph_name in list_grpahs:\n",
        "#     with np.load(PATH_GRAPHS + graph_name) as raw_graph:\n",
        "#         raw_edges = raw_graph['E'].transpose()\n",
        "#         rows = np.array(raw_edges[0])\n",
        "#         cols = np.array(raw_edges[1])\n",
        "\n",
        "#         max_range = max(np.max(rows), np.max(cols))\n",
        "#         unused_indexes = []\n",
        "#         for index in range(max_range):\n",
        "#             if (not index in rows) and (not index in cols):\n",
        "#                 unused_indexes.append(index)\n",
        "#         unused_indexes = np.array(unused_indexes)\n",
        "\n",
        "#         used_indexes = np.concatenate((rows, cols))\n",
        "#         used_indexes = np.unique(used_indexes, axis=0)\n",
        "#         used_indexes[::-1].sort()\n",
        "\n",
        "#         for used_var, unused_var in zip(used_indexes, unused_indexes):\n",
        "#             np.place(rows, rows == used_var, unused_var)\n",
        "#             np.place(cols, cols == used_var, unused_var)\n",
        "#         max_range = max(np.max(rows), np.max(cols))\n",
        "#         raw_data = raw_graph['D']\n",
        "\n",
        "#         list_of_rows.append(rows)\n",
        "#         list_of_cols.append(cols)\n",
        "#         list_of_max_vertices.append(max_range)\n",
        "#         list_of_data.append(raw_data)\n",
        "\n",
        "#         # print('used vertices shape: ', used_indexes.shape)\n",
        "#         # print('unused vertices shape:', unused_indexes.shape)\n",
        "#         # print('new max of vertices: ', max_range)\n",
        "\n",
        "# assert np.max(list_of_max_vertices) == np.min(list_of_max_vertices)\n",
        "# size_matrix = np.max(list_of_max_vertices) + 1\n",
        "\n",
        "# X = []\n",
        "# for raw_data, rows, cols in zip(list_of_data, list_of_rows, list_of_cols):\n",
        "#     sparse_graph = coo_matrix((raw_data, (rows, cols)),\n",
        "#                               shape=(size_matrix, size_matrix))\n",
        "#     dense_graph = sparse_graph.todense()\n",
        "#     X.append(dense_graph)\n",
        "# X = np.array(X)\n",
        "# X = X.reshape((X.shape[0], X.shape[1] * X.shape[2]))\n",
        "\n",
        "# PATH_LABELS=PATH_PROJECT + 'DATA/mini_graphs/GSE87571_samples.txt'\n",
        "\n",
        "# raw_file = open(PATH_LABELS, 'r')\n",
        "# y = []\n",
        "# for line in raw_file.readlines():\n",
        "#     match_obj = re.match(r'(GSM[0-9]*)\\s*([M,F])\\s*([0-9]*)\\s*([0-9]*)', line)\n",
        "#     if not match_obj is None: \n",
        "#         y.append(int(match_obj.group(3)))\n",
        "# y = np.array(y)\n",
        "\n",
        "# assert len(y) == num_samples\n",
        "# assert len(X) == num_samples\n",
        "\n",
        "# print(raw_graph.files)\n",
        "# print(X.shape)\n",
        "# print(y.shape)\n",
        "\n",
        "# outfile = PATH_PROJECT + 'DATA/converted_data.npz'\n",
        "# np.savez(outfile, X, y)"
      ],
      "execution_count": 0,
      "outputs": []
    },
    {
      "cell_type": "markdown",
      "metadata": {
        "id": "uoKk77Y_PfWK",
        "colab_type": "text"
      },
      "source": [
        "## Train"
      ]
    },
    {
      "cell_type": "code",
      "metadata": {
        "id": "FisV3-Fidabk",
        "colab_type": "code",
        "colab": {
          "base_uri": "https://localhost:8080/",
          "height": 66
        },
        "outputId": "c373c145-cf29-4e7b-91de-82c8e5c52733"
      },
      "source": [
        "PATH_CONVERTED_DATA = PATH_PROJECT + 'DATA/converted_data.npz'\n",
        "npzfile = np.load(PATH_CONVERTED_DATA)\n",
        "print(npzfile.files)\n",
        "X = npzfile['arr_0']\n",
        "y = npzfile['arr_1']\n",
        "print(X.shape)\n",
        "print(y.shape)\n",
        "\n",
        "print('--> Preprocessing data')\n",
        "n_train = (num_samples * 3) // 4\n",
        "n_val = num_samples // 10\n",
        "\n",
        "X_train = X[:n_train]\n",
        "X_val   = X[n_train:n_train+n_val]\n",
        "X_test  = X[n_train+n_val:]\n",
        "\n",
        "y_train = y[:n_train] // 10\n",
        "y_val   = y[n_train:n_train+n_val] // 10\n",
        "y_test  = y[n_train+n_val:] // 10\n",
        "\n",
        "# print('--> Get distance graph')\n",
        "# dist, idx = graph.distance_sklearn_metrics(X, k=2, metric='euclidean')\n",
        "# A = graph.adjacency(dist, idx).astype(np.float32)\n",
        "\n",
        "# print('--> Get laplacian matrix')\n",
        "# A = csr_matrix(A)\n",
        "# graphs, perm = coarsening.coarsen(A, levels=3, self_connections=True) #produce graph coarsenings \n",
        "# X_train = coarsening.perm_data(X_train, perm)\n",
        "# X_test = coarsening.perm_data(X_test, perm)\n",
        "# L = [coarsening.laplacian(A, normalized=True) for A in graphs]\n",
        "\n",
        "# print('--> Get model')\n",
        "# x_input = Input(shape=(X_train.shape[1],))\n",
        "# x = Reshape((X_train.shape[1],1))(x_input)\n",
        "# x = layers.GraphConvolution( 8, 2, 20, L[0])(x)\n",
        "# x = layers.GraphConvolution( 8, 4, 10, L[2])(x)\n",
        "# x = Flatten()(x)\n",
        "# x = Dense(66, activation='softmax')(x)"
      ],
      "execution_count": 4,
      "outputs": [
        {
          "output_type": "stream",
          "text": [
            "['arr_0', 'arr_1']\n",
            "(729, 765625)\n",
            "(729,)\n"
          ],
          "name": "stdout"
        }
      ]
    }
  ]
}