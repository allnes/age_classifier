{
  "nbformat": 4,
  "nbformat_minor": 0,
  "metadata": {
    "colab": {
      "name": "pcam_train.ipynb",
      "provenance": [],
      "machine_shape": "hm",
      "include_colab_link": true
    },
    "kernelspec": {
      "name": "python3",
      "display_name": "Python 3"
    },
    "accelerator": "GPU"
  },
  "cells": [
    {
      "cell_type": "markdown",
      "metadata": {
        "id": "view-in-github",
        "colab_type": "text"
      },
      "source": [
        "<a href=\"https://colab.research.google.com/github/allnes/age_classifier/blob/master/train_age_9_class_random.ipynb\" target=\"_parent\"><img src=\"https://colab.research.google.com/assets/colab-badge.svg\" alt=\"Open In Colab\"/></a>"
      ]
    },
    {
      "cell_type": "markdown",
      "metadata": {
        "id": "-6Xki-tu-rQH",
        "colab_type": "text"
      },
      "source": [
        "## Connect to Google Drive"
      ]
    },
    {
      "cell_type": "code",
      "metadata": {
        "id": "_nMY9IssT-NZ",
        "colab_type": "code",
        "outputId": "e2698266-b649-4aa2-c8d2-d6e09c38ce33",
        "colab": {
          "base_uri": "https://localhost:8080/",
          "height": 161
        }
      },
      "source": [
        "from google.colab import drive\n",
        "import os, natsort as nsrt, numpy as np, re\n",
        "from scipy.sparse import coo_matrix, csgraph, csr_matrix\n",
        "import matplotlib.pyplot as plt\n",
        "import cv2 as cv\n",
        "\n",
        "drive.mount('/content/drive')\n",
        "PATH_PROJECT='/content/drive/My Drive/DL_DATA_GRAPH/'\n",
        "PATH_CNN_REPO=PATH_PROJECT + 'BUILD/cnn_graph/'\n",
        "os.chdir(PATH_CNN_REPO)\n",
        "from lib import models, graph, coarsening, utils\n",
        "%ls\n",
        "\n",
        "# !git clone https://github.com/mdeff/cnn_graph\n",
        "!git pull origin master\n",
        "\n",
        "os.chdir(PATH_PROJECT)\n",
        "%ls\n",
        "%matplotlib inline"
      ],
      "execution_count": 23,
      "outputs": [
        {
          "output_type": "stream",
          "text": [
            "Drive already mounted at /content/drive; to attempt to forcibly remount, call drive.mount(\"/content/drive\", force_remount=True).\n",
            "\u001b[0m\u001b[01;34mcheckpoints\u001b[0m/  makefile    README.md         \u001b[01;34mtrials\u001b[0m/\n",
            "\u001b[01;34mlib\u001b[0m/          \u001b[01;34mnips2016\u001b[0m/   requirements.txt  usage.ipynb\n",
            "LICENSE.txt   rcv1.ipynb  \u001b[01;34msummaries\u001b[0m/\n",
            "From https://github.com/mdeff/cnn_graph\n",
            " * branch            master     -> FETCH_HEAD\n",
            "Already up to date.\n",
            "\u001b[0m\u001b[01;34mBUILD\u001b[0m/  \u001b[01;34mDATA\u001b[0m/\n"
          ],
          "name": "stdout"
        }
      ]
    },
    {
      "cell_type": "markdown",
      "metadata": {
        "id": "R0w9O8In_oEO",
        "colab_type": "text"
      },
      "source": [
        "## Preprocessing data"
      ]
    },
    {
      "cell_type": "code",
      "metadata": {
        "id": "flIZlmyt_r9B",
        "colab_type": "code",
        "outputId": "8a05cb49-7ed4-48c1-9969-afd377950dea",
        "colab": {
          "base_uri": "https://localhost:8080/",
          "height": 71
        }
      },
      "source": [
        "PATH_GRAPHS=PATH_PROJECT + 'DATA/mini_graphs/graphs/'\n",
        "list_grpahs = []\n",
        "for (_, _, filenames) in os.walk(PATH_GRAPHS):\n",
        "    list_grpahs = list_grpahs + filenames\n",
        "\n",
        "list_grpahs = nsrt.natsorted(list_grpahs)[0::2]\n",
        "\n",
        "num_samples = int(np.load(PATH_GRAPHS + list_grpahs[0])['num_samples'])\n",
        "num_features = int(np.load(PATH_GRAPHS + list_grpahs[0])['num_features'])\n",
        "\n",
        "def save_zip(save_size):\n",
        "    list_of_rows = []\n",
        "    list_of_cols = []\n",
        "    list_of_max_vertices = []\n",
        "    list_of_data = []\n",
        "\n",
        "    zip_size = save_size\n",
        "\n",
        "    for graph_name in list_grpahs:\n",
        "        with np.load(PATH_GRAPHS + graph_name) as raw_graph:\n",
        "            raw_edges = raw_graph['E'].transpose()\n",
        "            rows = np.array(raw_edges[0])\n",
        "            cols = np.array(raw_edges[1])\n",
        "\n",
        "            max_range = max(np.max(rows), np.max(cols))\n",
        "            unused_indexes = []\n",
        "            for index in range(max_range):\n",
        "                if (not index in rows) and (not index in cols):\n",
        "                    unused_indexes.append(index)\n",
        "            unused_indexes = np.array(unused_indexes)\n",
        "\n",
        "            used_indexes = np.concatenate((rows, cols))\n",
        "            used_indexes = np.unique(used_indexes, axis=0)\n",
        "            used_indexes[::-1].sort()\n",
        "\n",
        "            for used_var, unused_var in zip(used_indexes, unused_indexes):\n",
        "                np.place(rows, rows == used_var, unused_var)\n",
        "                np.place(cols, cols == used_var, unused_var)\n",
        "            max_range = max(np.max(rows), np.max(cols))\n",
        "            raw_data = raw_graph['D']\n",
        "\n",
        "            list_of_rows.append(rows)\n",
        "            list_of_cols.append(cols)\n",
        "            list_of_max_vertices.append(max_range)\n",
        "            list_of_data.append(raw_data)\n",
        "\n",
        "            # print('used vertices shape: ', used_indexes.shape)\n",
        "            # print('unused vertices shape:', unused_indexes.shape)\n",
        "            # print('new max of vertices: ', max_range)\n",
        "\n",
        "    assert np.max(list_of_max_vertices) == np.min(list_of_max_vertices)\n",
        "    size_matrix = np.max(list_of_max_vertices) + 1\n",
        "\n",
        "    X = []\n",
        "    for raw_data, rows, cols in zip(list_of_data, list_of_rows, list_of_cols):\n",
        "        sparse_graph = coo_matrix((raw_data, (rows, cols)),\n",
        "                                  shape=(size_matrix, size_matrix))\n",
        "        dense_graph = sparse_graph.todense()\n",
        "        X.append(cv.resize(dense_graph, \n",
        "                           dsize=(zip_size, zip_size), \n",
        "                           interpolation=cv.INTER_CUBIC))\n",
        "    X = np.array(X)\n",
        "    X = X.reshape((X.shape[0], X.shape[1] * X.shape[2]))\n",
        "\n",
        "    PATH_LABELS=PATH_PROJECT + 'DATA/mini_graphs/GSE87571_samples.txt'\n",
        "\n",
        "    raw_file = open(PATH_LABELS, 'r')\n",
        "    y = []\n",
        "    for line in raw_file.readlines():\n",
        "        match_obj = re.match(r'(GSM[0-9]*)\\s*([M,F])\\s*([0-9]*)\\s*([0-9]*)', line)\n",
        "        if not match_obj is None: \n",
        "            y.append(int(match_obj.group(3)))\n",
        "    y = np.array(y)\n",
        "\n",
        "    assert len(y) == num_samples\n",
        "    assert len(X) == num_samples\n",
        "\n",
        "    print(raw_graph.files)\n",
        "    print(X.shape)\n",
        "    print(y.shape)\n",
        "\n",
        "    # outfile = PATH_PROJECT + 'DATA/converted_data.npz'\n",
        "    outfile = PATH_PROJECT + 'DATA/converted_data_resize_' + str(zip_size) + '.npz'\n",
        "    np.savez(outfile, X, y)\n",
        "\n",
        "zip_size = 128\n",
        "# save_zip(zip_size)\n",
        "\n",
        "# PATH_CONVERTED_DATA = PATH_PROJECT + 'DATA/converted_data.npz'\n",
        "# PATH_CONVERTED_DATA = PATH_PROJECT + 'DATA/converted_data_resize_' + str(zip_size) + '.npz'\n",
        "PATH_CONVERTED_DATA = PATH_PROJECT + 'DATA/converted_data_resize_875_random.npz'\n",
        "# PATH_CONVERTED_DATA = PATH_PROJECT + 'DATA/converted_data_resize_875_edmonds.npz'\n",
        "# PATH_CONVERTED_DATA = PATH_PROJECT + 'DATA/converted_data_resize_875_hard.npz'\n",
        "# PATH_CONVERTED_DATA = PATH_PROJECT + 'DATA/converted_data_resize_128.npz'\n",
        "npzfile = np.load(PATH_CONVERTED_DATA)\n",
        "print(npzfile.files)\n",
        "X = npzfile['arr_0'].astype(np.float32)\n",
        "y = npzfile['arr_1']\n",
        "print(X.shape)\n",
        "print(y.shape)"
      ],
      "execution_count": 24,
      "outputs": [
        {
          "output_type": "stream",
          "text": [
            "['arr_0', 'arr_1']\n",
            "(729, 16384)\n",
            "(729,)\n"
          ],
          "name": "stdout"
        }
      ]
    },
    {
      "cell_type": "markdown",
      "metadata": {
        "id": "uoKk77Y_PfWK",
        "colab_type": "text"
      },
      "source": [
        "## Train"
      ]
    },
    {
      "cell_type": "code",
      "metadata": {
        "id": "FisV3-Fidabk",
        "colab_type": "code",
        "outputId": "382ae385-c2fb-4795-87d0-fc6f2b75f9af",
        "colab": {
          "base_uri": "https://localhost:8080/",
          "height": 53
        }
      },
      "source": [
        "print('--> Reshape data')\n",
        "n_train = (num_samples * 3) // 4\n",
        "n_val = num_samples // 10\n",
        "\n",
        "X_train = X[:n_train]\n",
        "X_val   = X[n_train:n_train+n_val]\n",
        "X_test  = X[n_train+n_val:]\n",
        "\n",
        "y = y // 10 - 1\n",
        "# y = y // 25 \n",
        "y_train = y[:n_train]\n",
        "y_val   = y[n_train:n_train+n_val]\n",
        "y_test  = y[n_train+n_val:]\n",
        "\n",
        "print(np.unique(y))"
      ],
      "execution_count": 25,
      "outputs": [
        {
          "output_type": "stream",
          "text": [
            "--> Reshape data\n",
            "[0 1 2 3 4 5 6 7 8]\n"
          ],
          "name": "stdout"
        }
      ]
    },
    {
      "cell_type": "code",
      "metadata": {
        "id": "V0TgRm51wPnX",
        "colab_type": "code",
        "outputId": "8bdbaff3-96b3-4134-e6fb-a37d7d5772ab",
        "colab": {
          "base_uri": "https://localhost:8080/",
          "height": 305
        }
      },
      "source": [
        "print('--> Get distance graph')\n",
        "dist, idx = graph.distance_scipy_spatial(X_train.T, k=4, metric='euclidean')\n",
        "A = graph.adjacency(dist, idx).astype(np.float32)\n",
        "\n",
        "print('d = |V| = {}, k|V| < |E| = {}'.format(zip_size, A.nnz))\n",
        "plt.spy(A, markersize=2, color='black');"
      ],
      "execution_count": 26,
      "outputs": [
        {
          "output_type": "stream",
          "text": [
            "--> Get distance graph\n",
            "d = |V| = 128, k|V| < |E| = 109134\n"
          ],
          "name": "stdout"
        },
        {
          "output_type": "display_data",
          "data": {
            "image/png": "[encoded data removed]",
            "text/plain": [
              "<Figure size 432x288 with 1 Axes>"
            ]
          },
          "metadata": {
            "tags": []
          }
        }
      ]
    },
    {
      "cell_type": "code",
      "metadata": {
        "id": "FaVIbB4jpJUi",
        "colab_type": "code",
        "outputId": "ddc1996c-b460-4cb2-b678-2d855e87d4b5",
        "colab": {
          "base_uri": "https://localhost:8080/",
          "height": 161
        }
      },
      "source": [
        "print('--> Get laplacian matrix')\n",
        "graphs, perm = coarsening.coarsen(A, levels=3, self_connections=True)\n",
        "X_train = coarsening.perm_data(X_train, perm)\n",
        "print(X_train.shape)\n",
        "X_val = coarsening.perm_data(X_val, perm)\n",
        "print(X_val.shape)\n",
        "X_test = coarsening.perm_data(X_test, perm)\n",
        "print(X_test.shape)"
      ],
      "execution_count": 27,
      "outputs": [
        {
          "output_type": "stream",
          "text": [
            "--> Get laplacian matrix\n",
            "Layer 0: M_0 = |V| = 27624 nodes (11240 added),|E| = 53359 edges\n",
            "Layer 1: M_1 = |V| = 13812 nodes (5177 added),|E| = 28548 edges\n",
            "Layer 2: M_2 = |V| = 6906 nodes (1431 added),|E| = 20218 edges\n",
            "Layer 3: M_3 = |V| = 3453 nodes (0 added),|E| = 14142 edges\n",
            "(546, 27624)\n",
            "(72, 27624)\n",
            "(111, 27624)\n"
          ],
          "name": "stdout"
        }
      ]
    },
    {
      "cell_type": "code",
      "metadata": {
        "id": "lKwoS5I0ub2e",
        "colab_type": "code",
        "colab": {}
      },
      "source": [
        "L = [graph.laplacian(A, normalized=True) for A in graphs]"
      ],
      "execution_count": 0,
      "outputs": []
    },
    {
      "cell_type": "code",
      "metadata": {
        "id": "ZGn1wtFvpaeb",
        "colab_type": "code",
        "colab": {}
      },
      "source": [
        "params = dict()\n",
        "params['dir_name']       = 'demo'\n",
        "params['num_epochs']     = 32\n",
        "params['batch_size']     = 16\n",
        "params['eval_frequency'] = 100\n",
        "\n",
        "# Building blocks.\n",
        "params['filter']         = 'chebyshev5'\n",
        "params['brelu']          = 'b1relu'\n",
        "params['brelu']          = 'b2relu'\n",
        "params['pool']           = 'apool1'\n",
        "params['pool']           = 'mpool1'\n",
        "\n",
        "# Number of classes.\n",
        "C = y.max() + 1\n",
        "assert C == np.unique(y).size\n",
        "\n",
        "# Architecture.\n",
        "params['F']              = [32, 32]  # Number of graph convolutional filters.\n",
        "params['K']              = [16, 16]  # Polynomial orders.\n",
        "params['p']              = [4, 2]    # Pooling sizes.\n",
        "params['M']              = [1000, C]  # Output dimensionality of fully connected layers.\n",
        "\n",
        "# Optimization.\n",
        "params['regularization'] = 5e-4\n",
        "params['dropout']        = 1\n",
        "params['learning_rate']  = 1e-3\n",
        "params['decay_rate']     = 0.95\n",
        "params['momentum']       = 0\n",
        "params['decay_steps']    = n_train / params['batch_size']"
      ],
      "execution_count": 0,
      "outputs": []
    },
    {
      "cell_type": "code",
      "metadata": {
        "id": "NNrt9IQGs6mJ",
        "colab_type": "code",
        "outputId": "eb8ab086-aaa7-40f5-bedb-700890674320",
        "colab": {
          "base_uri": "https://localhost:8080/",
          "height": 1000
        }
      },
      "source": [
        "model = models.cgcnn(L, **params)\n",
        "accuracy, loss, t_step = model.fit(X_train, y_train, X_val, y_val)"
      ],
      "execution_count": 30,
      "outputs": [
        {
          "output_type": "stream",
          "text": [
            "NN architecture\n",
            "  input: M_0 = 27624\n",
            "  layer 1: cgconv1\n",
            "    representation: M_0 * F_1 / p_1 = 27624 * 32 / 4 = 220992\n",
            "    weights: F_0 * F_1 * K_1 = 1 * 32 * 16 = 512\n",
            "    biases: M_1 * F_1 = 27624 * 32 = 883968\n",
            "  layer 2: cgconv2\n",
            "    representation: M_1 * F_2 / p_2 = 6906 * 32 / 2 = 110496\n",
            "    weights: F_1 * F_2 * K_2 = 32 * 32 * 16 = 16384\n",
            "    biases: M_2 * F_2 = 6906 * 32 = 220992\n",
            "  layer 3: fc1\n",
            "    representation: M_3 = 1000\n",
            "    weights: M_2 * M_3 = 110496 * 1000 = 110496000\n",
            "    biases: M_3 = 1000\n",
            "  layer 4: logits (softmax)\n",
            "    representation: M_4 = 9\n",
            "    weights: M_3 * M_4 = 1000 * 9 = 9000\n",
            "    biases: M_4 = 9\n",
            "step 100 / 1092 (epoch 2.93 / 32):\n",
            "  learning_rate = 9.02e-04, loss_average = 2.17e+02\n",
            "  validation accuracy: 19.44 (14 / 72), f1 (weighted): 18.46, loss: 2.55e+02\n",
            "  time: 3s (wall 8s)\n",
            "step 200 / 1092 (epoch 5.86 / 32):\n",
            "  learning_rate = 7.74e-04, loss_average = 2.16e+02\n",
            "  validation accuracy: 19.44 (14 / 72), f1 (weighted): 16.35, loss: 2.54e+02\n",
            "  time: 18s (wall 23s)\n",
            "step 300 / 1092 (epoch 8.79 / 32):\n",
            "  learning_rate = 6.63e-04, loss_average = 2.15e+02\n",
            "  validation accuracy: 20.83 (15 / 72), f1 (weighted): 19.31, loss: 2.54e+02\n",
            "  time: 32s (wall 37s)\n",
            "step 400 / 1092 (epoch 11.72 / 32):\n",
            "  learning_rate = 5.69e-04, loss_average = 2.15e+02\n",
            "  validation accuracy: 22.22 (16 / 72), f1 (weighted): 21.38, loss: 2.54e+02\n",
            "  time: 47s (wall 53s)\n",
            "step 500 / 1092 (epoch 14.65 / 32):\n",
            "  learning_rate = 4.88e-04, loss_average = 2.15e+02\n",
            "  validation accuracy: 20.83 (15 / 72), f1 (weighted): 19.91, loss: 2.54e+02\n",
            "  time: 62s (wall 67s)\n",
            "step 600 / 1092 (epoch 17.58 / 32):\n",
            "  learning_rate = 4.18e-04, loss_average = 2.15e+02\n",
            "  validation accuracy: 22.22 (16 / 72), f1 (weighted): 21.17, loss: 2.54e+02\n",
            "  time: 76s (wall 82s)\n",
            "step 700 / 1092 (epoch 20.51 / 32):\n",
            "  learning_rate = 3.58e-04, loss_average = 2.15e+02\n",
            "  validation accuracy: 22.22 (16 / 72), f1 (weighted): 20.35, loss: 2.54e+02\n",
            "  time: 91s (wall 97s)\n",
            "step 800 / 1092 (epoch 23.44 / 32):\n",
            "  learning_rate = 3.07e-04, loss_average = 2.15e+02\n",
            "  validation accuracy: 20.83 (15 / 72), f1 (weighted): 19.74, loss: 2.54e+02\n",
            "  time: 105s (wall 112s)\n",
            "step 900 / 1092 (epoch 26.37 / 32):\n",
            "  learning_rate = 2.64e-04, loss_average = 2.15e+02\n",
            "  validation accuracy: 23.61 (17 / 72), f1 (weighted): 21.12, loss: 2.54e+02\n",
            "  time: 120s (wall 127s)\n",
            "step 1000 / 1092 (epoch 29.30 / 32):\n",
            "  learning_rate = 2.26e-04, loss_average = 2.15e+02\n",
            "  validation accuracy: 22.22 (16 / 72), f1 (weighted): 21.27, loss: 2.54e+02\n",
            "  time: 134s (wall 142s)\n",
            "step 1092 / 1092 (epoch 32.00 / 32):\n",
            "  learning_rate = 2.04e-04, loss_average = 2.15e+02\n",
            "  validation accuracy: 22.22 (16 / 72), f1 (weighted): 20.27, loss: 2.54e+02\n",
            "  time: 148s (wall 157s)\n",
            "validation accuracy: peak = 23.61, mean = 21.67\n"
          ],
          "name": "stdout"
        }
      ]
    },
    {
      "cell_type": "code",
      "metadata": {
        "id": "HR2L4Q7etAdp",
        "colab_type": "code",
        "outputId": "b311f61f-2b94-4407-ee8b-eedde403e35a",
        "colab": {
          "base_uri": "https://localhost:8080/",
          "height": 320
        }
      },
      "source": [
        "fig, ax1 = plt.subplots(figsize=(15, 5))\n",
        "ax1.plot(accuracy, 'b.-')\n",
        "ax1.set_ylabel('validation accuracy', color='b')\n",
        "ax2 = ax1.twinx()\n",
        "ax2.plot(loss, 'g.-')\n",
        "ax2.set_ylabel('training loss', color='g')\n",
        "plt.show()"
      ],
      "execution_count": 31,
      "outputs": [
        {
          "output_type": "display_data",
          "data": {
            "image/png": "[encoded data removed]",
            "text/plain": [
              "<Figure size 1080x360 with 2 Axes>"
            ]
          },
          "metadata": {
            "tags": []
          }
        }
      ]
    },
    {
      "cell_type": "code",
      "metadata": {
        "id": "_SJdlx4otEwh",
        "colab_type": "code",
        "outputId": "beb8a241-7b54-4b4c-9824-58c97797406b",
        "colab": {
          "base_uri": "https://localhost:8080/",
          "height": 35
        }
      },
      "source": [
        "print('Time per step: {:.2f} ms'.format(t_step*1000))"
      ],
      "execution_count": 32,
      "outputs": [
        {
          "output_type": "stream",
          "text": [
            "Time per step: 150.68 ms\n"
          ],
          "name": "stdout"
        }
      ]
    },
    {
      "cell_type": "code",
      "metadata": {
        "id": "VN_abqdZtG8-",
        "colab_type": "code",
        "outputId": "6b4fdd5b-60ca-4106-9634-a1e6e712a8ec",
        "colab": {
          "base_uri": "https://localhost:8080/",
          "height": 71
        }
      },
      "source": [
        "res = model.evaluate(X_test, y_test)\n",
        "print(res[0])"
      ],
      "execution_count": 33,
      "outputs": [
        {
          "output_type": "stream",
          "text": [
            "INFO:tensorflow:Restoring parameters from /content/drive/My Drive/DL_DATA_GRAPH/BUILD/cnn_graph/lib/../checkpoints/demo/model-1092\n",
            "accuracy: 20.72 (23 / 111), f1 (weighted): 18.44, loss: 2.30e+02\n",
            "time: 1s (wall 1s)\n"
          ],
          "name": "stdout"
        }
      ]
    }
  ]
}