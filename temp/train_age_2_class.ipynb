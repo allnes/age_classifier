{
  "nbformat": 4,
  "nbformat_minor": 0,
  "metadata": {
    "colab": {
      "name": "pcam_train.ipynb",
      "provenance": [],
      "machine_shape": "hm",
      "include_colab_link": true
    },
    "kernelspec": {
      "name": "python3",
      "display_name": "Python 3"
    },
    "accelerator": "TPU"
  },
  "cells": [
    {
      "cell_type": "markdown",
      "metadata": {
        "id": "view-in-github",
        "colab_type": "text"
      },
      "source": [
        "<a href=\"https://colab.research.google.com/github/allnes/age_classifier/blob/master/train_age_2_class.ipynb\" target=\"_parent\"><img src=\"https://colab.research.google.com/assets/colab-badge.svg\" alt=\"Open In Colab\"/></a>"
      ]
    },
    {
      "cell_type": "markdown",
      "metadata": {
        "id": "-6Xki-tu-rQH",
        "colab_type": "text"
      },
      "source": [
        "## Connect to Google Drive"
      ]
    },
    {
      "cell_type": "code",
      "metadata": {
        "id": "_nMY9IssT-NZ",
        "colab_type": "code",
        "outputId": "18937fb3-77e5-4833-f355-5f73d9548fea",
        "colab": {
          "base_uri": "https://localhost:8080/",
          "height": 343
        }
      },
      "source": [
        "%tensorflow_version 1.x\n",
        "\n",
        "from google.colab import drive\n",
        "import os, natsort as nsrt, numpy as np, re\n",
        "from scipy.sparse import coo_matrix, csgraph, csr_matrix\n",
        "import matplotlib.pyplot as plt\n",
        "import cv2 as cv\n",
        "import scipy\n",
        "!pip install -U scikit-learn\n",
        "import sklearn\n",
        "\n",
        "drive.mount('/content/drive')\n",
        "PATH_PROJECT='/content/drive/My Drive/DL_DATA_GRAPH/'\n",
        "PATH_CNN_REPO=PATH_PROJECT + 'BUILD/cnn_graph/'\n",
        "os.chdir(PATH_CNN_REPO)\n",
        "from lib import models, graph, coarsening, utils\n",
        "%ls\n",
        "\n",
        "# !git clone https://github.com/mdeff/cnn_graph\n",
        "!git pull origin master\n",
        "\n",
        "os.chdir(PATH_PROJECT)\n",
        "%ls\n",
        "%matplotlib inline"
      ],
      "execution_count": 2,
      "outputs": [
        {
          "output_type": "stream",
          "text": [
            "TensorFlow 1.x selected.\n",
            "Requirement already up-to-date: scikit-learn in /usr/local/lib/python3.6/dist-packages (0.22.2.post1)\n",
            "Requirement already satisfied, skipping upgrade: scipy>=0.17.0 in /usr/local/lib/python3.6/dist-packages (from scikit-learn) (1.4.1)\n",
            "Requirement already satisfied, skipping upgrade: joblib>=0.11 in /usr/local/lib/python3.6/dist-packages (from scikit-learn) (0.14.1)\n",
            "Requirement already satisfied, skipping upgrade: numpy>=1.11.0 in /usr/local/lib/python3.6/dist-packages (from scikit-learn) (1.18.3)\n",
            "Go to this URL in a browser: https://accounts.google.com/o/oauth2/auth?client_id=947318989803-6bn6qk8qdgf4n4g3pfee6491hc0brc4i.apps.googleusercontent.com&redirect_uri=urn%3aietf%3awg%3aoauth%3a2.0%3aoob&response_type=code&scope=email%20https%3a%2f%2fwww.googleapis.com%2fauth%2fdocs.test%20https%3a%2f%2fwww.googleapis.com%2fauth%2fdrive%20https%3a%2f%2fwww.googleapis.com%2fauth%2fdrive.photos.readonly%20https%3a%2f%2fwww.googleapis.com%2fauth%2fpeopleapi.readonly\n",
            "\n",
            "Enter your authorization code:\n",
            "··········\n",
            "Mounted at /content/drive\n",
            "\u001b[0m\u001b[01;34mcheckpoints\u001b[0m/  makefile    README.md         \u001b[01;34mtrials\u001b[0m/\n",
            "\u001b[01;34mlib\u001b[0m/          \u001b[01;34mnips2016\u001b[0m/   requirements.txt  usage.ipynb\n",
            "LICENSE.txt   rcv1.ipynb  \u001b[01;34msummaries\u001b[0m/\n",
            "From https://github.com/allnes/cnn_graph\n",
            " * branch            master     -> FETCH_HEAD\n",
            "Already up to date.\n",
            "\u001b[0m\u001b[01;34mBUILD\u001b[0m/  \u001b[01;34mDATA\u001b[0m/\n"
          ],
          "name": "stdout"
        }
      ]
    },
    {
      "cell_type": "markdown",
      "metadata": {
        "id": "R0w9O8In_oEO",
        "colab_type": "text"
      },
      "source": [
        "## Preprocessing data"
      ]
    },
    {
      "cell_type": "code",
      "metadata": {
        "id": "flIZlmyt_r9B",
        "colab_type": "code",
        "outputId": "f7a5f2d9-9eea-4537-8fce-0a239990e00d",
        "colab": {
          "base_uri": "https://localhost:8080/",
          "height": 377
        }
      },
      "source": [
        "PATH_GRAPHS=PATH_PROJECT + 'DATA/mini_graphs/graphs/'\n",
        "list_grpahs = []\n",
        "for (_, _, filenames) in os.walk(PATH_GRAPHS):\n",
        "    list_grpahs = list_grpahs + filenames\n",
        "\n",
        "list_grpahs = nsrt.natsorted(list_grpahs)[0::2]\n",
        "\n",
        "num_samples = int(np.load(PATH_GRAPHS + list_grpahs[0])['num_samples'])\n",
        "num_features = int(np.load(PATH_GRAPHS + list_grpahs[0])['num_features'])\n",
        "\n",
        "def save_zip(save_size):\n",
        "    list_of_rows = []\n",
        "    list_of_cols = []\n",
        "    list_of_max_vertices = []\n",
        "    list_of_data = []\n",
        "\n",
        "    zip_size = save_size\n",
        "\n",
        "    for graph_name in list_grpahs:\n",
        "        with np.load(PATH_GRAPHS + graph_name) as raw_graph:\n",
        "            raw_edges = raw_graph['E'].transpose()\n",
        "            rows = np.array(raw_edges[0])\n",
        "            cols = np.array(raw_edges[1])\n",
        "\n",
        "            max_range = max(np.max(rows), np.max(cols))\n",
        "            unused_indexes = []\n",
        "            for index in range(max_range):\n",
        "                if (not index in rows) and (not index in cols):\n",
        "                    unused_indexes.append(index)\n",
        "            unused_indexes = np.array(unused_indexes)\n",
        "\n",
        "            used_indexes = np.concatenate((rows, cols))\n",
        "            used_indexes = np.unique(used_indexes, axis=0)\n",
        "            used_indexes[::-1].sort()\n",
        "\n",
        "            for used_var, unused_var in zip(used_indexes, unused_indexes):\n",
        "                np.place(rows, rows == used_var, unused_var)\n",
        "                np.place(cols, cols == used_var, unused_var)\n",
        "            max_range = max(np.max(rows), np.max(cols))\n",
        "            raw_data = raw_graph['D']\n",
        "\n",
        "            list_of_rows.append(rows)\n",
        "            list_of_cols.append(cols)\n",
        "            list_of_max_vertices.append(max_range)\n",
        "            list_of_data.append(raw_data)\n",
        "\n",
        "            # print('used vertices shape: ', used_indexes.shape)\n",
        "            # print('unused vertices shape:', unused_indexes.shape)\n",
        "            # print('new max of vertices: ', max_range)\n",
        "\n",
        "    assert np.max(list_of_max_vertices) == np.min(list_of_max_vertices)\n",
        "    size_matrix = np.max(list_of_max_vertices) + 1\n",
        "\n",
        "    X = []\n",
        "    for raw_data, rows, cols in zip(list_of_data, list_of_rows, list_of_cols):\n",
        "        sparse_graph = coo_matrix((raw_data, (rows, cols)),\n",
        "                                  shape=(size_matrix, size_matrix))\n",
        "        dense_graph = sparse_graph.todense()\n",
        "        X.append(cv.resize(dense_graph, \n",
        "                           dsize=(zip_size, zip_size), \n",
        "                           interpolation=cv.INTER_CUBIC))\n",
        "    X = np.array(X)\n",
        "    X = X.reshape((X.shape[0], X.shape[1] * X.shape[2]))\n",
        "\n",
        "    PATH_LABELS=PATH_PROJECT + 'DATA/mini_graphs/GSE87571_samples.txt'\n",
        "\n",
        "    raw_file = open(PATH_LABELS, 'r')\n",
        "    y = []\n",
        "    for line in raw_file.readlines():\n",
        "        match_obj = re.match(r'(GSM[0-9]*)\\s*([M,F])\\s*([0-9]*)\\s*([0-9]*)', line)\n",
        "        if not match_obj is None: \n",
        "            y.append(int(match_obj.group(3)))\n",
        "    y = np.array(y)\n",
        "\n",
        "    assert len(y) == num_samples\n",
        "    assert len(X) == num_samples\n",
        "\n",
        "    print(raw_graph.files)\n",
        "    print(X.shape)\n",
        "    print(y.shape)\n",
        "\n",
        "    # outfile = PATH_PROJECT + 'DATA/converted_data.npz'\n",
        "    outfile = PATH_PROJECT + 'DATA/converted_data_resize_' + str(zip_size) + '.npz'\n",
        "    np.savez(outfile, X, y)\n",
        "\n",
        "zip_size = 128\n",
        "# save_zip(zip_size)\n",
        "\n",
        "PATH_CONVERTED_DATA = PATH_PROJECT + 'DATA/ARCHIVE/converted_data_resize_' + str(zip_size) + '.npz'\n",
        "# PATH_CONVERTED_DATA = PATH_PROJECT + 'DATA/converted_data_resize_875_lam_192.npz'\n",
        "\n",
        "npzfile = np.load(PATH_CONVERTED_DATA)\n",
        "print(npzfile.files)\n",
        "X = npzfile['arr_0'].astype(np.float32)\n",
        "y = npzfile['arr_1']\n",
        "print(X.shape)\n",
        "print(y.shape)\n",
        "\n",
        "##########################################################\n",
        "\n",
        "print('--> Reshape data')\n",
        "n_train = (num_samples * 3) // 4\n",
        "n_val = num_samples // 10\n",
        "\n",
        "X_train = X[:n_train]\n",
        "X_val   = X[n_train:n_train+n_val]\n",
        "X_test  = X[n_train+n_val:]\n",
        "\n",
        "# y = y // 10 - 1\n",
        "# y = y // 13 - 1\n",
        "# y = y // 17 \n",
        "# y = y // 20 \n",
        "# y = y // 25 \n",
        "# y = y // 33\n",
        "y = y // 50\n",
        "\n",
        "y_train = y[:n_train]\n",
        "y_val   = y[n_train:n_train+n_val]\n",
        "y_test  = y[n_train+n_val:]\n",
        "\n",
        "print(np.unique(y))\n",
        "\n",
        "##########################################################\n",
        "\n",
        "# print('--> Get distance graph')\n",
        "# def distance_sklearn_metrics(z, k=4, metric='euclidean'):\n",
        "#     \"\"\"Compute exact pairwise distances.\"\"\"\n",
        "#     d = sklearn.metrics.pairwise.pairwise_distances(\n",
        "#             z, metric=metric, n_jobs=-2)\n",
        "#     # k-NN graph.\n",
        "#     idx = np.argsort(d)[:, 1:k+1]\n",
        "#     d.sort()\n",
        "#     d = d[:, 1:k+1]\n",
        "#     return d, idx\n",
        "\n",
        "  \n",
        "# dist, idx = distance_sklearn_metrics(X_train.T)\n",
        "# A = graph.adjacency(dist, idx).astype(np.float32)\n",
        "\n",
        "# PATH_DUMP_DATA = PATH_PROJECT + 'DATA/dump.npz'\n",
        "# scipy.sparse.save_npz(PATH_DUMP_DATA, A)\n",
        "\n",
        "PATH_DUMP_LOAD_DATA = PATH_PROJECT + 'DATA/dump.npz'\n",
        "A = scipy.sparse.load_npz(PATH_DUMP_LOAD_DATA)\n",
        "\n",
        "\n",
        "print('d = |V| = {}, k|V| < |E| = {}'.format(zip_size, A.nnz))\n",
        "plt.spy(A, markersize=2, color='black');"
      ],
      "execution_count": 3,
      "outputs": [
        {
          "output_type": "stream",
          "text": [
            "['arr_0', 'arr_1']\n",
            "(729, 16384)\n",
            "(729,)\n",
            "--> Reshape data\n",
            "[0 1]\n",
            "d = |V| = 128, k|V| < |E| = 127836\n"
          ],
          "name": "stdout"
        },
        {
          "output_type": "display_data",
          "data": {
            "image/png": "[encoded data removed]",
            "text/plain": [
              "<Figure size 432x288 with 1 Axes>"
            ]
          },
          "metadata": {
            "tags": [],
            "needs_background": "light"
          }
        }
      ]
    },
    {
      "cell_type": "markdown",
      "metadata": {
        "id": "uoKk77Y_PfWK",
        "colab_type": "text"
      },
      "source": [
        "## Train"
      ]
    },
    {
      "cell_type": "code",
      "metadata": {
        "id": "FaVIbB4jpJUi",
        "colab_type": "code",
        "outputId": "e4224dc4-7928-4ace-ba10-81243194543a",
        "colab": {
          "base_uri": "https://localhost:8080/",
          "height": 269
        }
      },
      "source": [
        "print('--> Get laplacian matrix')\n",
        "graphs, perm = coarsening.coarsen(A, levels=3, self_connections=True)\n",
        "X_train = coarsening.perm_data(X_train, perm)\n",
        "print(X_train.shape)\n",
        "X_val = coarsening.perm_data(X_val, perm)\n",
        "print(X_val.shape)\n",
        "X_test = coarsening.perm_data(X_test, perm)\n",
        "print(X_test.shape)"
      ],
      "execution_count": 4,
      "outputs": [
        {
          "output_type": "stream",
          "text": [
            "--> Get laplacian matrix\n"
          ],
          "name": "stdout"
        },
        {
          "output_type": "stream",
          "text": [
            "/content/drive/My Drive/DL_DATA_GRAPH/BUILD/cnn_graph/lib/coarsening.py:152: RuntimeWarning: divide by zero encountered in true_divide\n",
            "  tval = vv[rs+jj] * (1.0/weights[tid] + 1.0/weights[nid])\n",
            "/content/drive/My Drive/DL_DATA_GRAPH/BUILD/cnn_graph/lib/coarsening.py:152: RuntimeWarning: divide by zero encountered in true_divide\n",
            "  tval = vv[rs+jj] * (1.0/weights[tid] + 1.0/weights[nid])\n",
            "/content/drive/My Drive/DL_DATA_GRAPH/BUILD/cnn_graph/lib/coarsening.py:152: RuntimeWarning: divide by zero encountered in true_divide\n",
            "  tval = vv[rs+jj] * (1.0/weights[tid] + 1.0/weights[nid])\n"
          ],
          "name": "stderr"
        },
        {
          "output_type": "stream",
          "text": [
            "Layer 0: M_0 = |V| = 127088 nodes (110704 added),|E| = 63918 edges\n",
            "Layer 1: M_1 = |V| = 63544 nodes (47305 added),|E| = 63884 edges\n",
            "Layer 2: M_2 = |V| = 31772 nodes (15703 added),|E| = 63393 edges\n",
            "Layer 3: M_3 = |V| = 15886 nodes (0 added),|E| = 62937 edges\n",
            "(546, 127088)\n",
            "(72, 127088)\n",
            "(111, 127088)\n"
          ],
          "name": "stdout"
        }
      ]
    },
    {
      "cell_type": "code",
      "metadata": {
        "id": "lKwoS5I0ub2e",
        "colab_type": "code",
        "colab": {}
      },
      "source": [
        "L = [graph.laplacian(A, normalized=True) for A in graphs]"
      ],
      "execution_count": 0,
      "outputs": []
    },
    {
      "cell_type": "code",
      "metadata": {
        "id": "ZGn1wtFvpaeb",
        "colab_type": "code",
        "colab": {}
      },
      "source": [
        "params = dict()\n",
        "params['dir_name']       = 'demo'\n",
        "params['num_epochs']     = 32\n",
        "params['batch_size']     = 16\n",
        "params['eval_frequency'] = 100\n",
        "\n",
        "# Building blocks.\n",
        "params['filter']         = 'chebyshev2'\n",
        "params['brelu']          = 'b2relu'\n",
        "params['pool']           = 'mpool1'\n",
        "\n",
        "# Number of classes.\n",
        "C = y.max() + 1\n",
        "assert C == np.unique(y).size\n",
        "\n",
        "# Architecture.\n",
        "params['F']              = [32, 32]  # Number of graph convolutional filters.\n",
        "params['K']              = [16, 16]  # Polynomial orders.\n",
        "params['p']              = [4, 2]    # Pooling sizes.\n",
        "params['M']              = [2000, C]  # Output dimensionality of fully connected layers.\n",
        "\n",
        "# Optimization.\n",
        "params['regularization'] = 5e-4\n",
        "params['dropout']        = 1\n",
        "params['learning_rate']  = 1e-3\n",
        "params['decay_rate']     = 0.95\n",
        "params['momentum']       = 0\n",
        "params['decay_steps']    = n_train / params['batch_size']"
      ],
      "execution_count": 0,
      "outputs": []
    },
    {
      "cell_type": "code",
      "metadata": {
        "id": "NNrt9IQGs6mJ",
        "colab_type": "code",
        "outputId": "0b4a7ca5-fec7-4013-d108-72fcb60a12ad",
        "colab": {
          "base_uri": "https://localhost:8080/",
          "height": 1000
        }
      },
      "source": [
        "model = models.cgcnn(L, **params)\n",
        "accuracy, loss, t_step = model.fit(X_train, y_train, X_val, y_val)"
      ],
      "execution_count": 7,
      "outputs": [
        {
          "output_type": "stream",
          "text": [
            "NN architecture\n",
            "  input: M_0 = 127088\n",
            "  layer 1: cgconv1\n",
            "    representation: M_0 * F_1 / p_1 = 127088 * 32 / 4 = 1016704\n",
            "    weights: F_0 * F_1 * K_1 = 1 * 32 * 16 = 512\n",
            "    biases: M_1 * F_1 = 127088 * 32 = 4066816\n",
            "  layer 2: cgconv2\n",
            "    representation: M_1 * F_2 / p_2 = 31772 * 32 / 2 = 508352\n",
            "    weights: F_1 * F_2 * K_2 = 32 * 32 * 16 = 16384\n",
            "    biases: M_2 * F_2 = 31772 * 32 = 1016704\n",
            "  layer 3: fc1\n",
            "    representation: M_3 = 2000\n",
            "    weights: M_2 * M_3 = 508352 * 2000 = 1016704000\n",
            "    biases: M_3 = 2000\n",
            "  layer 4: logits (softmax)\n",
            "    representation: M_4 = 2\n",
            "    weights: M_3 * M_4 = 2000 * 2 = 4000\n",
            "    biases: M_4 = 2\n",
            "WARNING:tensorflow:From /content/drive/My Drive/DL_DATA_GRAPH/BUILD/cnn_graph/lib/models.py:156: The name tf.placeholder is deprecated. Please use tf.compat.v1.placeholder instead.\n",
            "\n",
            "WARNING:tensorflow:From /content/drive/My Drive/DL_DATA_GRAPH/BUILD/cnn_graph/lib/models.py:954: The name tf.variable_scope is deprecated. Please use tf.compat.v1.variable_scope instead.\n",
            "\n",
            "WARNING:tensorflow:From /content/drive/My Drive/DL_DATA_GRAPH/BUILD/cnn_graph/lib/models.py:870: py_func (from tensorflow.python.ops.script_ops) is deprecated and will be removed in a future version.\n",
            "Instructions for updating:\n",
            "tf.py_func is deprecated in TF V2. Instead, there are two\n",
            "    options available in V2.\n",
            "    - tf.py_function takes a python function which manipulates tf eager\n",
            "    tensors instead of numpy arrays. It's easy to convert a tf eager tensor to\n",
            "    an ndarray (just call tensor.numpy()) but having access to eager tensors\n",
            "    means `tf.py_function`s can use accelerators such as GPUs as well as\n",
            "    being differentiable using a gradient tape.\n",
            "    - tf.numpy_function maintains the semantics of the deprecated tf.py_func\n",
            "    (it is not differentiable, and manipulates numpy arrays). It drops the\n",
            "    stateful argument making all functions stateful.\n",
            "    \n",
            "WARNING:tensorflow:From /content/drive/My Drive/DL_DATA_GRAPH/BUILD/cnn_graph/lib/models.py:274: The name tf.get_variable is deprecated. Please use tf.compat.v1.get_variable instead.\n",
            "\n",
            "WARNING:tensorflow:From /content/drive/My Drive/DL_DATA_GRAPH/BUILD/cnn_graph/lib/models.py:277: The name tf.summary.histogram is deprecated. Please use tf.compat.v1.summary.histogram instead.\n",
            "\n",
            "WARNING:tensorflow:From /content/drive/My Drive/DL_DATA_GRAPH/BUILD/cnn_graph/lib/models.py:927: The name tf.nn.max_pool is deprecated. Please use tf.nn.max_pool2d instead.\n",
            "\n",
            "WARNING:tensorflow:From /content/drive/My Drive/DL_DATA_GRAPH/BUILD/cnn_graph/lib/models.py:968: calling dropout (from tensorflow.python.ops.nn_ops) with keep_prob is deprecated and will be removed in a future version.\n",
            "Instructions for updating:\n",
            "Please use `rate` instead of `keep_prob`. Rate should be set to `rate = 1 - keep_prob`.\n",
            "WARNING:tensorflow:From /content/drive/My Drive/DL_DATA_GRAPH/BUILD/cnn_graph/lib/models.py:209: to_int64 (from tensorflow.python.ops.math_ops) is deprecated and will be removed in a future version.\n",
            "Instructions for updating:\n",
            "Use `tf.cast` instead.\n",
            "WARNING:tensorflow:From /content/drive/My Drive/DL_DATA_GRAPH/BUILD/cnn_graph/lib/models.py:217: The name tf.summary.scalar is deprecated. Please use tf.compat.v1.summary.scalar instead.\n",
            "\n",
            "WARNING:tensorflow:From /content/drive/My Drive/DL_DATA_GRAPH/BUILD/cnn_graph/lib/models.py:236: The name tf.train.exponential_decay is deprecated. Please use tf.compat.v1.train.exponential_decay instead.\n",
            "\n",
            "WARNING:tensorflow:From /content/drive/My Drive/DL_DATA_GRAPH/BUILD/cnn_graph/lib/models.py:241: The name tf.train.GradientDescentOptimizer is deprecated. Please use tf.compat.v1.train.GradientDescentOptimizer instead.\n",
            "\n",
            "warning: conv1/weights has no gradient\n",
            "warning: conv1/bias has no gradient\n",
            "WARNING:tensorflow:From /content/drive/My Drive/DL_DATA_GRAPH/BUILD/cnn_graph/lib/models.py:168: The name tf.global_variables_initializer is deprecated. Please use tf.compat.v1.global_variables_initializer instead.\n",
            "\n",
            "WARNING:tensorflow:From /content/drive/My Drive/DL_DATA_GRAPH/BUILD/cnn_graph/lib/models.py:171: The name tf.summary.merge_all is deprecated. Please use tf.compat.v1.summary.merge_all instead.\n",
            "\n",
            "WARNING:tensorflow:From /content/drive/My Drive/DL_DATA_GRAPH/BUILD/cnn_graph/lib/models.py:172: The name tf.train.Saver is deprecated. Please use tf.compat.v1.train.Saver instead.\n",
            "\n",
            "WARNING:tensorflow:From /content/drive/My Drive/DL_DATA_GRAPH/BUILD/cnn_graph/lib/models.py:85: The name tf.Session is deprecated. Please use tf.compat.v1.Session instead.\n",
            "\n",
            "WARNING:tensorflow:From /content/drive/My Drive/DL_DATA_GRAPH/BUILD/cnn_graph/lib/models.py:87: The name tf.summary.FileWriter is deprecated. Please use tf.compat.v1.summary.FileWriter instead.\n",
            "\n",
            "step 100 / 1092 (epoch 2.93 / 32):\n",
            "  learning_rate = 9.03e-04, loss_average = 1.97e+03\n",
            "  validation accuracy: 77.78 (56 / 72), f1 (weighted): 76.91, loss: 2.19e+03\n",
            "  time: 5313s (wall 348s)\n",
            "WARNING:tensorflow:From /content/drive/My Drive/DL_DATA_GRAPH/BUILD/cnn_graph/lib/models.py:123: The name tf.Summary is deprecated. Please use tf.compat.v1.Summary instead.\n",
            "\n",
            "step 200 / 1092 (epoch 5.86 / 32):\n",
            "  learning_rate = 7.74e-04, loss_average = 1.97e+03\n",
            "  validation accuracy: 51.39 (37 / 72), f1 (weighted): 35.83, loss: 2.19e+03\n",
            "  time: 10533s (wall 786s)\n",
            "step 300 / 1092 (epoch 8.79 / 32):\n",
            "  learning_rate = 6.63e-04, loss_average = 1.97e+03\n",
            "  validation accuracy: 52.78 (38 / 72), f1 (weighted): 36.46, loss: 2.19e+03\n",
            "  time: 15893s (wall 1253s)\n",
            "step 400 / 1092 (epoch 11.72 / 32):\n",
            "  learning_rate = 5.69e-04, loss_average = 1.97e+03\n",
            "  validation accuracy: 80.56 (58 / 72), f1 (weighted): 80.19, loss: 2.18e+03\n",
            "  time: 21226s (wall 1718s)\n",
            "step 500 / 1092 (epoch 14.65 / 32):\n",
            "  learning_rate = 4.88e-04, loss_average = 1.97e+03\n",
            "  validation accuracy: 84.72 (61 / 72), f1 (weighted): 84.66, loss: 2.18e+03\n",
            "  time: 26305s (wall 2175s)\n",
            "step 600 / 1092 (epoch 17.58 / 32):\n",
            "  learning_rate = 4.18e-04, loss_average = 1.97e+03\n",
            "  validation accuracy: 80.56 (58 / 72), f1 (weighted): 80.19, loss: 2.18e+03\n",
            "  time: 31336s (wall 2630s)\n",
            "WARNING:tensorflow:From /tensorflow-1.15.2/python3.6/tensorflow_core/python/training/saver.py:963: remove_checkpoint (from tensorflow.python.training.checkpoint_management) is deprecated and will be removed in a future version.\n",
            "Instructions for updating:\n",
            "Use standard file APIs to delete files with this prefix.\n",
            "step 700 / 1092 (epoch 20.51 / 32):\n",
            "  learning_rate = 3.58e-04, loss_average = 1.97e+03\n",
            "  validation accuracy: 84.72 (61 / 72), f1 (weighted): 84.71, loss: 2.18e+03\n",
            "  time: 36347s (wall 3095s)\n",
            "step 800 / 1092 (epoch 23.44 / 32):\n",
            "  learning_rate = 3.07e-04, loss_average = 1.97e+03\n",
            "  validation accuracy: 84.72 (61 / 72), f1 (weighted): 84.59, loss: 2.18e+03\n",
            "  time: 41396s (wall 3562s)\n",
            "step 900 / 1092 (epoch 26.37 / 32):\n",
            "  learning_rate = 2.64e-04, loss_average = 1.97e+03\n",
            "  validation accuracy: 83.33 (60 / 72), f1 (weighted): 83.14, loss: 2.18e+03\n",
            "  time: 46259s (wall 4021s)\n",
            "step 1000 / 1092 (epoch 29.30 / 32):\n",
            "  learning_rate = 2.26e-04, loss_average = 1.97e+03\n",
            "  validation accuracy: 83.33 (60 / 72), f1 (weighted): 83.23, loss: 2.18e+03\n",
            "  time: 51146s (wall 4486s)\n",
            "step 1092 / 1092 (epoch 32.00 / 32):\n",
            "  learning_rate = 2.04e-04, loss_average = 1.97e+03\n",
            "  validation accuracy: 83.33 (60 / 72), f1 (weighted): 83.23, loss: 2.18e+03\n",
            "  time: 55775s (wall 4921s)\n",
            "validation accuracy: peak = 84.72, mean = 76.94\n"
          ],
          "name": "stdout"
        }
      ]
    },
    {
      "cell_type": "code",
      "metadata": {
        "id": "HR2L4Q7etAdp",
        "colab_type": "code",
        "outputId": "23928893-ed23-4394-b414-cb627c6fac3b",
        "colab": {
          "base_uri": "https://localhost:8080/",
          "height": 320
        }
      },
      "source": [
        "fig, ax1 = plt.subplots(figsize=(15, 5))\n",
        "ax1.plot(accuracy, 'b.-')\n",
        "ax1.set_ylabel('validation accuracy', color='b')\n",
        "ax2 = ax1.twinx()\n",
        "ax2.plot(loss, 'g.-')\n",
        "ax2.set_ylabel('training loss', color='g')\n",
        "plt.show()"
      ],
      "execution_count": 8,
      "outputs": [
        {
          "output_type": "display_data",
          "data": {
            "image/png": "[encoded data removed]",
            "text/plain": [
              "<Figure size 1080x360 with 2 Axes>"
            ]
          },
          "metadata": {
            "tags": [],
            "needs_background": "light"
          }
        }
      ]
    },
    {
      "cell_type": "code",
      "metadata": {
        "id": "_SJdlx4otEwh",
        "colab_type": "code",
        "outputId": "b05c5acb-6ad6-4e87-c6f2-16174b5d5a89",
        "colab": {
          "base_uri": "https://localhost:8080/",
          "height": 35
        }
      },
      "source": [
        "print('Time per step: {:.2f} ms'.format(t_step*1000))"
      ],
      "execution_count": 9,
      "outputs": [
        {
          "output_type": "stream",
          "text": [
            "Time per step: 4601.84 ms\n"
          ],
          "name": "stdout"
        }
      ]
    },
    {
      "cell_type": "code",
      "metadata": {
        "id": "CuwDIAWaqim1",
        "colab_type": "code",
        "colab": {
          "base_uri": "https://localhost:8080/",
          "height": 215
        },
        "outputId": "0845bb12-2814-4640-fd83-c58d8585540a"
      },
      "source": [
        "print(X_test.shape, y_test.shape)\n",
        "acc_per_class = {}\n",
        "for id_class in np.unique(y):\n",
        "    acc_per_class[id_class] = []\n",
        "\n",
        "for graph, label in zip(X_test, y_test):\n",
        "    acc_per_class[label].append(graph)\n",
        "\n",
        "\n",
        "for id_class in np.unique(y):\n",
        "    acc_per_class[id_class] = np.array(acc_per_class[id_class])\n",
        "    acc_shape = acc_per_class[id_class].shape\n",
        "    labels = np.empty(acc_shape[0])\n",
        "    labels.fill(id_class)\n",
        "    print(\"############ Class {}\".format(id_class))\n",
        "    print(acc_shape)\n",
        "    print(model.evaluate(acc_per_class[id_class], labels)[0])"
      ],
      "execution_count": 10,
      "outputs": [
        {
          "output_type": "stream",
          "text": [
            "(111, 127088) (111,)\n",
            "############ Class 0\n",
            "(49, 127088)\n",
            "INFO:tensorflow:Restoring parameters from /content/drive/My Drive/DL_DATA_GRAPH/BUILD/cnn_graph/lib/../checkpoints/demo/model-1092\n",
            "accuracy: 81.63 (40 / 49), f1 (weighted): 89.89, loss: 2.57e+03\n",
            "time: 66s (wall 16s)\n",
            "############ Class 1\n",
            "(62, 127088)\n",
            "INFO:tensorflow:Restoring parameters from /content/drive/My Drive/DL_DATA_GRAPH/BUILD/cnn_graph/lib/../checkpoints/demo/model-1092\n",
            "accuracy: 90.32 (56 / 62), f1 (weighted): 94.92, loss: 2.03e+03\n",
            "time: 68s (wall 25s)\n"
          ],
          "name": "stdout"
        }
      ]
    },
    {
      "cell_type": "code",
      "metadata": {
        "id": "VN_abqdZtG8-",
        "colab_type": "code",
        "outputId": "126b0d55-2e8d-42a4-cf51-772972356472",
        "colab": {
          "base_uri": "https://localhost:8080/",
          "height": 71
        }
      },
      "source": [
        "res = model.evaluate(X_test, y_test)\n",
        "print(res[0])"
      ],
      "execution_count": 11,
      "outputs": [
        {
          "output_type": "stream",
          "text": [
            "INFO:tensorflow:Restoring parameters from /content/drive/My Drive/DL_DATA_GRAPH/BUILD/cnn_graph/lib/../checkpoints/demo/model-1092\n",
            "accuracy: 86.49 (96 / 111), f1 (weighted): 86.43, loss: 1.98e+03\n",
            "time: 117s (wall 34s)\n"
          ],
          "name": "stdout"
        }
      ]
    }
  ]
}