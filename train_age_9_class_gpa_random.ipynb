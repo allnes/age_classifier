{
  "nbformat": 4,
  "nbformat_minor": 0,
  "metadata": {
    "colab": {
      "name": "pcam_train.ipynb",
      "provenance": [],
      "machine_shape": "hm",
      "include_colab_link": true
    },
    "kernelspec": {
      "name": "python3",
      "display_name": "Python 3"
    },
    "accelerator": "TPU"
  },
  "cells": [
    {
      "cell_type": "markdown",
      "metadata": {
        "id": "view-in-github",
        "colab_type": "text"
      },
      "source": [
        "<a href=\"https://colab.research.google.com/github/allnes/age_classifier/blob/master/train_age_9_class_gpa_random.ipynb\" target=\"_parent\"><img src=\"https://colab.research.google.com/assets/colab-badge.svg\" alt=\"Open In Colab\"/></a>"
      ]
    },
    {
      "cell_type": "markdown",
      "metadata": {
        "id": "-6Xki-tu-rQH",
        "colab_type": "text"
      },
      "source": [
        "## Connect to Google Drive"
      ]
    },
    {
      "cell_type": "code",
      "metadata": {
        "id": "_nMY9IssT-NZ",
        "colab_type": "code",
        "outputId": "abaf55b4-db84-4248-9796-9fa69988ec60",
        "colab": {
          "base_uri": "https://localhost:8080/",
          "height": 271
        }
      },
      "source": [
        "%tensorflow_version 1.x\n",
        "\n",
        "from google.colab import drive\n",
        "import os, natsort as nsrt, numpy as np, re\n",
        "from scipy.sparse import coo_matrix, csgraph, csr_matrix\n",
        "import matplotlib.pyplot as plt\n",
        "import cv2 as cv\n",
        "import sklearn\n",
        "\n",
        "drive.mount('/content/drive')\n",
        "PATH_PROJECT='/content/drive/My Drive/DL_DATA_GRAPH/'\n",
        "PATH_CNN_REPO=PATH_PROJECT + 'BUILD/cnn_graph/'\n",
        "os.chdir(PATH_CNN_REPO)\n",
        "from lib import models, graph, coarsening, utils\n",
        "%ls\n",
        "\n",
        "# !git clone https://github.com/mdeff/cnn_graph\n",
        "!git pull origin master\n",
        "\n",
        "os.chdir(PATH_PROJECT)\n",
        "%ls\n",
        "%matplotlib inline"
      ],
      "execution_count": 1,
      "outputs": [
        {
          "output_type": "stream",
          "text": [
            "TensorFlow 1.x selected.\n",
            "Go to this URL in a browser: https://accounts.google.com/o/oauth2/auth?client_id=947318989803-6bn6qk8qdgf4n4g3pfee6491hc0brc4i.apps.googleusercontent.com&redirect_uri=urn%3aietf%3awg%3aoauth%3a2.0%3aoob&response_type=code&scope=email%20https%3a%2f%2fwww.googleapis.com%2fauth%2fdocs.test%20https%3a%2f%2fwww.googleapis.com%2fauth%2fdrive%20https%3a%2f%2fwww.googleapis.com%2fauth%2fdrive.photos.readonly%20https%3a%2f%2fwww.googleapis.com%2fauth%2fpeopleapi.readonly\n",
            "\n",
            "Enter your authorization code:\n",
            "··········\n",
            "Mounted at /content/drive\n",
            "\u001b[0m\u001b[01;34mcheckpoints\u001b[0m/  makefile    README.md         \u001b[01;34mtrials\u001b[0m/\n",
            "\u001b[01;34mlib\u001b[0m/          \u001b[01;34mnips2016\u001b[0m/   requirements.txt  usage.ipynb\n",
            "LICENSE.txt   rcv1.ipynb  \u001b[01;34msummaries\u001b[0m/\n",
            "From https://github.com/allnes/cnn_graph\n",
            " * branch            master     -> FETCH_HEAD\n",
            "Already up to date.\n",
            "\u001b[0m\u001b[01;34mBUILD\u001b[0m/  \u001b[01;34mDATA\u001b[0m/\n"
          ],
          "name": "stdout"
        }
      ]
    },
    {
      "cell_type": "markdown",
      "metadata": {
        "id": "R0w9O8In_oEO",
        "colab_type": "text"
      },
      "source": [
        "## Preprocessing data"
      ]
    },
    {
      "cell_type": "code",
      "metadata": {
        "id": "flIZlmyt_r9B",
        "colab_type": "code",
        "outputId": "bcda5a91-f140-4ac1-d52d-8df4a5607231",
        "colab": {
          "base_uri": "https://localhost:8080/",
          "height": 71
        }
      },
      "source": [
        "PATH_GRAPHS=PATH_PROJECT + 'DATA/mini_graphs/graphs/'\n",
        "list_grpahs = []\n",
        "for (_, _, filenames) in os.walk(PATH_GRAPHS):\n",
        "    list_grpahs = list_grpahs + filenames\n",
        "\n",
        "list_grpahs = nsrt.natsorted(list_grpahs)[0::2]\n",
        "\n",
        "num_samples = int(np.load(PATH_GRAPHS + list_grpahs[0])['num_samples'])\n",
        "num_features = int(np.load(PATH_GRAPHS + list_grpahs[0])['num_features'])\n",
        "\n",
        "def save_zip(save_size):\n",
        "    list_of_rows = []\n",
        "    list_of_cols = []\n",
        "    list_of_max_vertices = []\n",
        "    list_of_data = []\n",
        "\n",
        "    zip_size = save_size\n",
        "\n",
        "    for graph_name in list_grpahs:\n",
        "        with np.load(PATH_GRAPHS + graph_name) as raw_graph:\n",
        "            raw_edges = raw_graph['E'].transpose()\n",
        "            rows = np.array(raw_edges[0])\n",
        "            cols = np.array(raw_edges[1])\n",
        "\n",
        "            max_range = max(np.max(rows), np.max(cols))\n",
        "            unused_indexes = []\n",
        "            for index in range(max_range):\n",
        "                if (not index in rows) and (not index in cols):\n",
        "                    unused_indexes.append(index)\n",
        "            unused_indexes = np.array(unused_indexes)\n",
        "\n",
        "            used_indexes = np.concatenate((rows, cols))\n",
        "            used_indexes = np.unique(used_indexes, axis=0)\n",
        "            used_indexes[::-1].sort()\n",
        "\n",
        "            for used_var, unused_var in zip(used_indexes, unused_indexes):\n",
        "                np.place(rows, rows == used_var, unused_var)\n",
        "                np.place(cols, cols == used_var, unused_var)\n",
        "            max_range = max(np.max(rows), np.max(cols))\n",
        "            raw_data = raw_graph['D']\n",
        "\n",
        "            list_of_rows.append(rows)\n",
        "            list_of_cols.append(cols)\n",
        "            list_of_max_vertices.append(max_range)\n",
        "            list_of_data.append(raw_data)\n",
        "\n",
        "            # print('used vertices shape: ', used_indexes.shape)\n",
        "            # print('unused vertices shape:', unused_indexes.shape)\n",
        "            # print('new max of vertices: ', max_range)\n",
        "\n",
        "    assert np.max(list_of_max_vertices) == np.min(list_of_max_vertices)\n",
        "    size_matrix = np.max(list_of_max_vertices) + 1\n",
        "\n",
        "    X = []\n",
        "    for raw_data, rows, cols in zip(list_of_data, list_of_rows, list_of_cols):\n",
        "        sparse_graph = coo_matrix((raw_data, (rows, cols)),\n",
        "                                  shape=(size_matrix, size_matrix))\n",
        "        dense_graph = sparse_graph.todense()\n",
        "        X.append(cv.resize(dense_graph, \n",
        "                           dsize=(zip_size, zip_size), \n",
        "                           interpolation=cv.INTER_CUBIC))\n",
        "    X = np.array(X)\n",
        "    X = X.reshape((X.shape[0], X.shape[1] * X.shape[2]))\n",
        "\n",
        "    PATH_LABELS=PATH_PROJECT + 'DATA/mini_graphs/GSE87571_samples.txt'\n",
        "\n",
        "    raw_file = open(PATH_LABELS, 'r')\n",
        "    y = []\n",
        "    for line in raw_file.readlines():\n",
        "        match_obj = re.match(r'(GSM[0-9]*)\\s*([M,F])\\s*([0-9]*)\\s*([0-9]*)', line)\n",
        "        if not match_obj is None: \n",
        "            y.append(int(match_obj.group(3)))\n",
        "    y = np.array(y)\n",
        "\n",
        "    assert len(y) == num_samples\n",
        "    assert len(X) == num_samples\n",
        "\n",
        "    print(raw_graph.files)\n",
        "    print(X.shape)\n",
        "    print(y.shape)\n",
        "\n",
        "    # outfile = PATH_PROJECT + 'DATA/converted_data.npz'\n",
        "    outfile = PATH_PROJECT + 'DATA/converted_data_resize_' + str(zip_size) + '.npz'\n",
        "    np.savez(outfile, X, y)\n",
        "\n",
        "zip_size = 128\n",
        "# save_zip(zip_size)\n",
        "\n",
        "PATH_CONVERTED_DATA = PATH_PROJECT + 'DATA/converted_data_resize_875_gpa_random_128.npz'\n",
        "npzfile = np.load(PATH_CONVERTED_DATA)\n",
        "print(npzfile.files)\n",
        "X = npzfile['arr_0'].astype(np.float32)\n",
        "y = npzfile['arr_1']\n",
        "print(X.shape)\n",
        "print(y.shape)"
      ],
      "execution_count": 2,
      "outputs": [
        {
          "output_type": "stream",
          "text": [
            "['arr_0', 'arr_1']\n",
            "(729, 16384)\n",
            "(729,)\n"
          ],
          "name": "stdout"
        }
      ]
    },
    {
      "cell_type": "markdown",
      "metadata": {
        "id": "uoKk77Y_PfWK",
        "colab_type": "text"
      },
      "source": [
        "## Train"
      ]
    },
    {
      "cell_type": "code",
      "metadata": {
        "id": "FisV3-Fidabk",
        "colab_type": "code",
        "outputId": "dd2ad08d-4238-4ae9-a827-bf8bf00fc1be",
        "colab": {
          "base_uri": "https://localhost:8080/",
          "height": 53
        }
      },
      "source": [
        "print('--> Reshape data')\n",
        "n_train = (num_samples * 3) // 4\n",
        "n_val = num_samples // 10\n",
        "\n",
        "X_train = X[:n_train]\n",
        "X_val   = X[n_train:n_train+n_val]\n",
        "X_test  = X[n_train+n_val:]\n",
        "\n",
        "y = y // 10 - 1\n",
        "# y = y // 25 \n",
        "y_train = y[:n_train]\n",
        "y_val   = y[n_train:n_train+n_val]\n",
        "y_test  = y[n_train+n_val:]\n",
        "\n",
        "print(np.unique(y))"
      ],
      "execution_count": 3,
      "outputs": [
        {
          "output_type": "stream",
          "text": [
            "--> Reshape data\n",
            "[0 1 2 3 4 5 6 7 8]\n"
          ],
          "name": "stdout"
        }
      ]
    },
    {
      "cell_type": "code",
      "metadata": {
        "id": "V0TgRm51wPnX",
        "colab_type": "code",
        "outputId": "514fa7ee-b990-49c2-d0a8-c2206960466e",
        "colab": {
          "base_uri": "https://localhost:8080/",
          "height": 305
        }
      },
      "source": [
        "print('--> Get distance graph')\n",
        "def dst_sklearn_metrics(z, k=4, metric='euclidean'):\n",
        "    \"\"\"Compute exact pairwise distances.\"\"\"\n",
        "    d = sklearn.metrics.pairwise.pairwise_distances(\n",
        "            z, metric=metric, n_jobs=-2)\n",
        "    idx = np.argsort(d)[:, 1:k+1]\n",
        "    d.sort()\n",
        "    d = d[:, 1:k+1]\n",
        "    return d, idx\n",
        "\n",
        "  \n",
        "dist, idx = dst_sklearn_metrics(X_train.T, k=3, metric='euclidean')\n",
        "A = graph.adjacency(dist, idx).astype(np.float32)\n",
        "\n",
        "print('d = |V| = {}, k|V| < |E| = {}'.format(zip_size, A.nnz))\n",
        "plt.spy(A, markersize=2, color='black');"
      ],
      "execution_count": 4,
      "outputs": [
        {
          "output_type": "stream",
          "text": [
            "--> Get distance graph\n",
            "d = |V| = 128, k|V| < |E| = 73992\n"
          ],
          "name": "stdout"
        },
        {
          "output_type": "display_data",
          "data": {
            "image/png": "[encoded data removed]",
            "text/plain": [
              "<Figure size 432x288 with 1 Axes>"
            ]
          },
          "metadata": {
            "tags": [],
            "needs_background": "light"
          }
        }
      ]
    },
    {
      "cell_type": "code",
      "metadata": {
        "id": "FaVIbB4jpJUi",
        "colab_type": "code",
        "outputId": "ff962786-db77-4078-eb6c-69a3d3974b89",
        "colab": {
          "base_uri": "https://localhost:8080/",
          "height": 161
        }
      },
      "source": [
        "print('--> Get laplacian matrix')\n",
        "graphs, perm = coarsening.coarsen(A, levels=3, self_connections=True)\n",
        "X_train = coarsening.perm_data(X_train, perm)\n",
        "print(X_train.shape)\n",
        "X_val = coarsening.perm_data(X_val, perm)\n",
        "print(X_val.shape)\n",
        "X_test = coarsening.perm_data(X_test, perm)\n",
        "print(X_test.shape)"
      ],
      "execution_count": 5,
      "outputs": [
        {
          "output_type": "stream",
          "text": [
            "--> Get laplacian matrix\n",
            "Layer 0: M_0 = |V| = 29848 nodes (13464 added),|E| = 36996 edges\n",
            "Layer 1: M_1 = |V| = 14924 nodes (6195 added),|E| = 19220 edges\n",
            "Layer 2: M_2 = |V| = 7462 nodes (1834 added),|E| = 13102 edges\n",
            "Layer 3: M_3 = |V| = 3731 nodes (0 added),|E| = 8755 edges\n",
            "(546, 29848)\n",
            "(72, 29848)\n",
            "(111, 29848)\n"
          ],
          "name": "stdout"
        }
      ]
    },
    {
      "cell_type": "code",
      "metadata": {
        "id": "lKwoS5I0ub2e",
        "colab_type": "code",
        "colab": {}
      },
      "source": [
        "L = [graph.laplacian(A, normalized=True) for A in graphs]"
      ],
      "execution_count": 0,
      "outputs": []
    },
    {
      "cell_type": "code",
      "metadata": {
        "id": "ZGn1wtFvpaeb",
        "colab_type": "code",
        "colab": {}
      },
      "source": [
        "params = dict()\n",
        "params['dir_name']       = 'demo'\n",
        "params['num_epochs']     = 32\n",
        "params['batch_size']     = 16\n",
        "params['eval_frequency'] = 100\n",
        "\n",
        "# Building blocks.\n",
        "params['filter']         = 'chebyshev5'\n",
        "params['brelu']          = 'b1relu'\n",
        "params['brelu']          = 'b2relu'\n",
        "params['pool']           = 'apool1'\n",
        "params['pool']           = 'mpool1'\n",
        "\n",
        "# Number of classes.\n",
        "C = y.max() + 1\n",
        "assert C == np.unique(y).size\n",
        "\n",
        "# Architecture.\n",
        "params['F']              = [32, 32]  # Number of graph convolutional filters.\n",
        "params['K']              = [16, 16]  # Polynomial orders.\n",
        "params['p']              = [4, 2]    # Pooling sizes.\n",
        "params['M']              = [1000, C]  # Output dimensionality of fully connected layers.\n",
        "\n",
        "# Optimization.\n",
        "params['regularization'] = 5e-4\n",
        "params['dropout']        = 1\n",
        "params['learning_rate']  = 1e-3\n",
        "params['decay_rate']     = 0.95\n",
        "params['momentum']       = 0\n",
        "params['decay_steps']    = n_train / params['batch_size']"
      ],
      "execution_count": 0,
      "outputs": []
    },
    {
      "cell_type": "code",
      "metadata": {
        "id": "NNrt9IQGs6mJ",
        "colab_type": "code",
        "outputId": "9b69520a-f6de-41c8-f7a4-83dd305cdc7f",
        "colab": {
          "base_uri": "https://localhost:8080/",
          "height": 1000
        }
      },
      "source": [
        "model = models.cgcnn(L, **params)\n",
        "accuracy, loss, t_step = model.fit(X_train, y_train, X_val, y_val)"
      ],
      "execution_count": 8,
      "outputs": [
        {
          "output_type": "stream",
          "text": [
            "NN architecture\n",
            "  input: M_0 = 29848\n",
            "  layer 1: cgconv1\n",
            "    representation: M_0 * F_1 / p_1 = 29848 * 32 / 4 = 238784\n",
            "    weights: F_0 * F_1 * K_1 = 1 * 32 * 16 = 512\n",
            "    biases: M_1 * F_1 = 29848 * 32 = 955136\n",
            "  layer 2: cgconv2\n",
            "    representation: M_1 * F_2 / p_2 = 7462 * 32 / 2 = 119392\n",
            "    weights: F_1 * F_2 * K_2 = 32 * 32 * 16 = 16384\n",
            "    biases: M_2 * F_2 = 7462 * 32 = 238784\n",
            "  layer 3: fc1\n",
            "    representation: M_3 = 1000\n",
            "    weights: M_2 * M_3 = 119392 * 1000 = 119392000\n",
            "    biases: M_3 = 1000\n",
            "  layer 4: logits (softmax)\n",
            "    representation: M_4 = 9\n",
            "    weights: M_3 * M_4 = 1000 * 9 = 9000\n",
            "    biases: M_4 = 9\n",
            "WARNING:tensorflow:From /content/drive/My Drive/DL_DATA_GRAPH/BUILD/cnn_graph/lib/models.py:156: The name tf.placeholder is deprecated. Please use tf.compat.v1.placeholder instead.\n",
            "\n",
            "WARNING:tensorflow:From /content/drive/My Drive/DL_DATA_GRAPH/BUILD/cnn_graph/lib/models.py:955: The name tf.variable_scope is deprecated. Please use tf.compat.v1.variable_scope instead.\n",
            "\n",
            "WARNING:tensorflow:From /content/drive/My Drive/DL_DATA_GRAPH/BUILD/cnn_graph/lib/models.py:889: The name tf.sparse_reorder is deprecated. Please use tf.sparse.reorder instead.\n",
            "\n",
            "WARNING:tensorflow:From /content/drive/My Drive/DL_DATA_GRAPH/BUILD/cnn_graph/lib/models.py:898: The name tf.sparse_tensor_dense_matmul is deprecated. Please use tf.sparse.sparse_dense_matmul instead.\n",
            "\n",
            "WARNING:tensorflow:From /content/drive/My Drive/DL_DATA_GRAPH/BUILD/cnn_graph/lib/models.py:274: The name tf.get_variable is deprecated. Please use tf.compat.v1.get_variable instead.\n",
            "\n",
            "WARNING:tensorflow:From /content/drive/My Drive/DL_DATA_GRAPH/BUILD/cnn_graph/lib/models.py:277: The name tf.summary.histogram is deprecated. Please use tf.compat.v1.summary.histogram instead.\n",
            "\n",
            "WARNING:tensorflow:From /content/drive/My Drive/DL_DATA_GRAPH/BUILD/cnn_graph/lib/models.py:928: The name tf.nn.max_pool is deprecated. Please use tf.nn.max_pool2d instead.\n",
            "\n",
            "WARNING:tensorflow:From /content/drive/My Drive/DL_DATA_GRAPH/BUILD/cnn_graph/lib/models.py:969: calling dropout (from tensorflow.python.ops.nn_ops) with keep_prob is deprecated and will be removed in a future version.\n",
            "Instructions for updating:\n",
            "Please use `rate` instead of `keep_prob`. Rate should be set to `rate = 1 - keep_prob`.\n",
            "WARNING:tensorflow:From /content/drive/My Drive/DL_DATA_GRAPH/BUILD/cnn_graph/lib/models.py:209: to_int64 (from tensorflow.python.ops.math_ops) is deprecated and will be removed in a future version.\n",
            "Instructions for updating:\n",
            "Use `tf.cast` instead.\n",
            "WARNING:tensorflow:From /content/drive/My Drive/DL_DATA_GRAPH/BUILD/cnn_graph/lib/models.py:217: The name tf.summary.scalar is deprecated. Please use tf.compat.v1.summary.scalar instead.\n",
            "\n",
            "WARNING:tensorflow:From /content/drive/My Drive/DL_DATA_GRAPH/BUILD/cnn_graph/lib/models.py:236: The name tf.train.exponential_decay is deprecated. Please use tf.compat.v1.train.exponential_decay instead.\n",
            "\n",
            "WARNING:tensorflow:From /content/drive/My Drive/DL_DATA_GRAPH/BUILD/cnn_graph/lib/models.py:241: The name tf.train.GradientDescentOptimizer is deprecated. Please use tf.compat.v1.train.GradientDescentOptimizer instead.\n",
            "\n",
            "WARNING:tensorflow:From /content/drive/My Drive/DL_DATA_GRAPH/BUILD/cnn_graph/lib/models.py:168: The name tf.global_variables_initializer is deprecated. Please use tf.compat.v1.global_variables_initializer instead.\n",
            "\n",
            "WARNING:tensorflow:From /content/drive/My Drive/DL_DATA_GRAPH/BUILD/cnn_graph/lib/models.py:171: The name tf.summary.merge_all is deprecated. Please use tf.compat.v1.summary.merge_all instead.\n",
            "\n",
            "WARNING:tensorflow:From /content/drive/My Drive/DL_DATA_GRAPH/BUILD/cnn_graph/lib/models.py:172: The name tf.train.Saver is deprecated. Please use tf.compat.v1.train.Saver instead.\n",
            "\n",
            "WARNING:tensorflow:From /content/drive/My Drive/DL_DATA_GRAPH/BUILD/cnn_graph/lib/models.py:85: The name tf.Session is deprecated. Please use tf.compat.v1.Session instead.\n",
            "\n",
            "WARNING:tensorflow:From /content/drive/My Drive/DL_DATA_GRAPH/BUILD/cnn_graph/lib/models.py:87: The name tf.summary.FileWriter is deprecated. Please use tf.compat.v1.summary.FileWriter instead.\n",
            "\n",
            "step 100 / 1092 (epoch 2.93 / 32):\n",
            "  learning_rate = 9.03e-04, loss_average = 2.34e+02\n",
            "  validation accuracy: 18.06 (13 / 72), f1 (weighted): 17.75, loss: 2.72e+02\n",
            "  time: 1028s (wall 64s)\n",
            "WARNING:tensorflow:From /content/drive/My Drive/DL_DATA_GRAPH/BUILD/cnn_graph/lib/models.py:123: The name tf.Summary is deprecated. Please use tf.compat.v1.Summary instead.\n",
            "\n",
            "step 200 / 1092 (epoch 5.86 / 32):\n",
            "  learning_rate = 7.74e-04, loss_average = 2.33e+02\n",
            "  validation accuracy: 20.83 (15 / 72), f1 (weighted): 20.84, loss: 2.71e+02\n",
            "  time: 2114s (wall 138s)\n",
            "step 300 / 1092 (epoch 8.79 / 32):\n",
            "  learning_rate = 6.63e-04, loss_average = 2.33e+02\n",
            "  validation accuracy: 22.22 (16 / 72), f1 (weighted): 21.73, loss: 2.71e+02\n",
            "  time: 3236s (wall 214s)\n",
            "step 400 / 1092 (epoch 11.72 / 32):\n",
            "  learning_rate = 5.69e-04, loss_average = 2.33e+02\n",
            "  validation accuracy: 20.83 (15 / 72), f1 (weighted): 20.21, loss: 2.71e+02\n",
            "  time: 4363s (wall 289s)\n",
            "step 500 / 1092 (epoch 14.65 / 32):\n",
            "  learning_rate = 4.88e-04, loss_average = 2.32e+02\n",
            "  validation accuracy: 20.83 (15 / 72), f1 (weighted): 20.56, loss: 2.71e+02\n",
            "  time: 5418s (wall 360s)\n",
            "step 600 / 1092 (epoch 17.58 / 32):\n",
            "  learning_rate = 4.18e-04, loss_average = 2.32e+02\n",
            "  validation accuracy: 20.83 (15 / 72), f1 (weighted): 19.25, loss: 2.71e+02\n",
            "  time: 6357s (wall 428s)\n",
            "WARNING:tensorflow:From /tensorflow-1.15.2/python3.6/tensorflow_core/python/training/saver.py:963: remove_checkpoint (from tensorflow.python.training.checkpoint_management) is deprecated and will be removed in a future version.\n",
            "Instructions for updating:\n",
            "Use standard file APIs to delete files with this prefix.\n",
            "step 700 / 1092 (epoch 20.51 / 32):\n",
            "  learning_rate = 3.58e-04, loss_average = 2.32e+02\n",
            "  validation accuracy: 22.22 (16 / 72), f1 (weighted): 18.81, loss: 2.71e+02\n",
            "  time: 7328s (wall 496s)\n",
            "step 800 / 1092 (epoch 23.44 / 32):\n",
            "  learning_rate = 3.07e-04, loss_average = 2.32e+02\n",
            "  validation accuracy: 19.44 (14 / 72), f1 (weighted): 17.41, loss: 2.71e+02\n",
            "  time: 8374s (wall 567s)\n",
            "step 900 / 1092 (epoch 26.37 / 32):\n",
            "  learning_rate = 2.64e-04, loss_average = 2.32e+02\n",
            "  validation accuracy: 19.44 (14 / 72), f1 (weighted): 18.01, loss: 2.71e+02\n",
            "  time: 9495s (wall 644s)\n",
            "step 1000 / 1092 (epoch 29.30 / 32):\n",
            "  learning_rate = 2.26e-04, loss_average = 2.32e+02\n",
            "  validation accuracy: 20.83 (15 / 72), f1 (weighted): 18.89, loss: 2.71e+02\n",
            "  time: 10573s (wall 717s)\n",
            "step 1092 / 1092 (epoch 32.00 / 32):\n",
            "  learning_rate = 2.04e-04, loss_average = 2.32e+02\n",
            "  validation accuracy: 19.44 (14 / 72), f1 (weighted): 18.01, loss: 2.71e+02\n",
            "  time: 11487s (wall 781s)\n",
            "validation accuracy: peak = 22.22, mean = 20.69\n"
          ],
          "name": "stdout"
        }
      ]
    },
    {
      "cell_type": "code",
      "metadata": {
        "id": "HR2L4Q7etAdp",
        "colab_type": "code",
        "outputId": "f06e3aac-8e0f-42f9-86b1-a266a49ef19b",
        "colab": {
          "base_uri": "https://localhost:8080/",
          "height": 320
        }
      },
      "source": [
        "fig, ax1 = plt.subplots(figsize=(15, 5))\n",
        "ax1.plot(accuracy, 'b.-')\n",
        "ax1.set_ylabel('validation accuracy', color='b')\n",
        "ax2 = ax1.twinx()\n",
        "ax2.plot(loss, 'g.-')\n",
        "ax2.set_ylabel('training loss', color='g')\n",
        "plt.show()"
      ],
      "execution_count": 9,
      "outputs": [
        {
          "output_type": "display_data",
          "data": {
            "image/png": "[encoded data removed]",
            "text/plain": [
              "<Figure size 1080x360 with 2 Axes>"
            ]
          },
          "metadata": {
            "tags": [],
            "needs_background": "light"
          }
        }
      ]
    },
    {
      "cell_type": "code",
      "metadata": {
        "id": "_SJdlx4otEwh",
        "colab_type": "code",
        "outputId": "5091bb44-21da-4d45-a374-2fd985eaca7b",
        "colab": {
          "base_uri": "https://localhost:8080/",
          "height": 35
        }
      },
      "source": [
        "print('Time per step: {:.2f} ms'.format(t_step*1000))"
      ],
      "execution_count": 10,
      "outputs": [
        {
          "output_type": "stream",
          "text": [
            "Time per step: 724.83 ms\n"
          ],
          "name": "stdout"
        }
      ]
    },
    {
      "cell_type": "code",
      "metadata": {
        "id": "VN_abqdZtG8-",
        "colab_type": "code",
        "outputId": "0e735dc4-e763-4741-d273-29a4b851e33a",
        "colab": {
          "base_uri": "https://localhost:8080/",
          "height": 71
        }
      },
      "source": [
        "res = model.evaluate(X_test, y_test)\n",
        "print(res[0])"
      ],
      "execution_count": 11,
      "outputs": [
        {
          "output_type": "stream",
          "text": [
            "INFO:tensorflow:Restoring parameters from /content/drive/My Drive/DL_DATA_GRAPH/BUILD/cnn_graph/lib/../checkpoints/demo/model-1092\n",
            "accuracy: 18.02 (20 / 111), f1 (weighted): 18.11, loss: 2.47e+02\n",
            "time: 22s (wall 3s)\n"
          ],
          "name": "stdout"
        }
      ]
    }
  ]
}