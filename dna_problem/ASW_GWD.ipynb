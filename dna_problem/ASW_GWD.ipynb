{
  "nbformat": 4,
  "nbformat_minor": 0,
  "metadata": {
    "colab": {
      "name": "pcam_train.ipynb",
      "provenance": [],
      "machine_shape": "hm",
      "include_colab_link": true
    },
    "kernelspec": {
      "name": "python3",
      "display_name": "Python 3"
    },
    "accelerator": "TPU"
  },
  "cells": [
    {
      "cell_type": "markdown",
      "metadata": {
        "id": "view-in-github",
        "colab_type": "text"
      },
      "source": [
        "<a href=\"https://colab.research.google.com/github/allnes/age_classifier/blob/master/dna_problem/ASW_GWD.ipynb\" target=\"_parent\"><img src=\"https://colab.research.google.com/assets/colab-badge.svg\" alt=\"Open In Colab\"/></a>"
      ]
    },
    {
      "cell_type": "markdown",
      "metadata": {
        "id": "-6Xki-tu-rQH",
        "colab_type": "text"
      },
      "source": [
        "## Connect to Google Drive"
      ]
    },
    {
      "cell_type": "code",
      "metadata": {
        "id": "_nMY9IssT-NZ",
        "colab_type": "code",
        "outputId": "c646679d-820f-4218-b865-0e0306f876cd",
        "colab": {
          "base_uri": "https://localhost:8080/",
          "height": 233
        }
      },
      "source": [
        "%tensorflow_version 1.x\n",
        "\n",
        "from google.colab import drive\n",
        "import os, natsort as nsrt, numpy as np, re\n",
        "from scipy.sparse import coo_matrix, csgraph, csr_matrix\n",
        "import matplotlib.pyplot as plt\n",
        "import cv2 as cv\n",
        "import scipy\n",
        "!pip install -U scikit-learn\n",
        "import sklearn\n",
        "import math\n",
        "drive.mount('/content/drive')\n",
        "PATH_PROJECT='/content/drive/My Drive/DL_DATA_GRAPH/'\n",
        "PATH_CNN_REPO=PATH_PROJECT + 'BUILD/cnn_graph/'\n",
        "os.chdir(PATH_CNN_REPO)\n",
        "from lib import models, graph, coarsening, utils\n",
        "%ls\n",
        "\n",
        "# !git clone https://github.com/mdeff/cnn_graph\n",
        "!git pull origin master\n",
        "\n",
        "os.chdir(PATH_PROJECT)\n",
        "%ls\n",
        "%matplotlib inline"
      ],
      "execution_count": 3,
      "outputs": [
        {
          "output_type": "stream",
          "text": [
            "Requirement already up-to-date: scikit-learn in /usr/local/lib/python3.6/dist-packages (0.22.2.post1)\n",
            "Requirement already satisfied, skipping upgrade: joblib>=0.11 in /usr/local/lib/python3.6/dist-packages (from scikit-learn) (0.14.1)\n",
            "Requirement already satisfied, skipping upgrade: numpy>=1.11.0 in /usr/local/lib/python3.6/dist-packages (from scikit-learn) (1.18.3)\n",
            "Requirement already satisfied, skipping upgrade: scipy>=0.17.0 in /usr/local/lib/python3.6/dist-packages (from scikit-learn) (1.4.1)\n",
            "Drive already mounted at /content/drive; to attempt to forcibly remount, call drive.mount(\"/content/drive\", force_remount=True).\n",
            "\u001b[0m\u001b[01;34mcheckpoints\u001b[0m/  makefile    README.md         \u001b[01;34mtrials\u001b[0m/\n",
            "\u001b[01;34mlib\u001b[0m/          \u001b[01;34mnips2016\u001b[0m/   requirements.txt  usage.ipynb\n",
            "LICENSE.txt   rcv1.ipynb  \u001b[01;34msummaries\u001b[0m/\n",
            "From https://github.com/allnes/cnn_graph\n",
            " * branch            master     -> FETCH_HEAD\n",
            "Already up to date.\n",
            "\u001b[0m\u001b[01;34mBUILD\u001b[0m/  \u001b[01;34mDATA\u001b[0m/\n"
          ],
          "name": "stdout"
        }
      ]
    },
    {
      "cell_type": "markdown",
      "metadata": {
        "id": "R0w9O8In_oEO",
        "colab_type": "text"
      },
      "source": [
        "## Preprocessing data"
      ]
    },
    {
      "cell_type": "code",
      "metadata": {
        "id": "flIZlmyt_r9B",
        "colab_type": "code",
        "outputId": "4ade4b32-6683-446b-c478-3e94a20bf965",
        "colab": {
          "base_uri": "https://localhost:8080/",
          "height": 1000
        }
      },
      "source": [
        "flag_save_dump = True\n",
        "name_region = 'ASW_GWD'\n",
        "\n",
        "def save_matrix(zip_sz):\n",
        "    PATH_CONVERTED_SAVE_DATA = PATH_PROJECT + 'DATA/DNA_DATA/raw/{}.npz'.format(name_region)\n",
        "    npzfile = np.load(PATH_CONVERTED_SAVE_DATA)\n",
        "    X_full = npzfile['arr_0'].astype(np.float32)\n",
        "    y_full = npzfile['arr_1']\n",
        "    X = []\n",
        "    for graph in X_full:\n",
        "        graph_size = int(math.sqrt(graph.shape[0]))\n",
        "        new_graph = np.copy(graph).reshape(graph_size, graph_size)\n",
        "        new_graph = np.pad(new_graph, pad_width=1, mode='constant', constant_values=0)\n",
        "        X.append(cv.resize(new_graph, \n",
        "                           dsize=(zip_sz, zip_sz), \n",
        "                           interpolation=cv.INTER_CUBIC))\n",
        "    X = np.array(X)\n",
        "    X = X.reshape((X.shape[0], X.shape[1] * X.shape[2]))\n",
        "    print(X.shape)\n",
        "    PATH_CONVERTED_SAVE_DATA = PATH_PROJECT + 'DATA/DNA_DATA/resize/{}_{}.npz'.format(name_region, zip_sz)\n",
        "    np.savez(PATH_CONVERTED_SAVE_DATA, X, y_full)\n",
        "\n",
        "zip_size = 128\n",
        "\n",
        "if flag_save_dump:\n",
        "    save_matrix(zip_size)\n",
        "\n",
        "PATH_CONVERTED_DATA = PATH_PROJECT + 'DATA/DNA_DATA/resize/{}_{}.npz'.format(name_region, zip_size)\n",
        "\n",
        "npzfile = np.load(PATH_CONVERTED_DATA)\n",
        "print(npzfile.files)\n",
        "X = npzfile['arr_0'].astype(np.float32)\n",
        "y = npzfile['arr_1']\n",
        "num_samples = X.shape[0]\n",
        "print(X.shape)\n",
        "print(y.shape)\n",
        "\n",
        "from sklearn.utils import shuffle\n",
        "X, y = shuffle(X, y)\n",
        "\n",
        "##########################################################\n",
        "\n",
        "print('--> Reshape data')\n",
        "n_train = (num_samples * 4) // 5\n",
        "n_val = num_samples // 20\n",
        "\n",
        "X_train = X[:n_train]\n",
        "X_val   = X[n_train:n_train+n_val]\n",
        "X_test  = X[n_train+n_val:]\n",
        "\n",
        "y_train = y[:n_train]\n",
        "y_val   = y[n_train:n_train+n_val]\n",
        "y_test  = y[n_train+n_val:]\n",
        "\n",
        "plt.title(\"y = {}\".format(y.shape[0]))\n",
        "plt.hist(y, len(np.unique(y)))\n",
        "plt.show()\n",
        "\n",
        "plt.title(\"y_train = {}\".format(y_train.shape[0]))\n",
        "plt.hist(y_train, len(np.unique(y_train)))\n",
        "plt.show()\n",
        "\n",
        "plt.title(\"y_test = {}\".format(y_test.shape[0]))\n",
        "plt.hist(y_test, len(np.unique(y_test)))\n",
        "plt.show()\n",
        "print(np.unique(y))\n",
        "\n",
        "##########################################################\n",
        "\n",
        "def save_dump():\n",
        "    print('--> Get distance graph')\n",
        "    def distance_sklearn_metrics(z, k=6, metric='euclidean'):\n",
        "        \"\"\"Compute exact pairwise distances.\"\"\"\n",
        "        d = sklearn.metrics.pairwise.pairwise_distances(\n",
        "                z, metric=metric, n_jobs=-2)\n",
        "        # k-NN graph.\n",
        "        idx = np.argsort(d)[:, 1:k+1]\n",
        "        d.sort()\n",
        "        d = d[:, 1:k+1]\n",
        "        return d, idx\n",
        "\n",
        "      \n",
        "    dist, idx = distance_sklearn_metrics(X_train.T)\n",
        "    A = graph.adjacency(dist, idx).astype(np.float32)\n",
        "\n",
        "    PATH_DUMP_DATA = PATH_PROJECT + 'DATA/DNA_DATA/dump/{}_dump.npz'.format(name_region)\n",
        "    scipy.sparse.save_npz(PATH_DUMP_DATA, A)\n",
        "\n",
        "if flag_save_dump:\n",
        "    save_dump()\n",
        "\n",
        "PATH_DUMP_LOAD_DATA = PATH_PROJECT + 'DATA/DNA_DATA/dump/{}_dump.npz'.format(name_region)\n",
        "A = scipy.sparse.load_npz(PATH_DUMP_LOAD_DATA)\n",
        "\n",
        "\n",
        "print('d = |V| = {}, k|V| < |E| = {}'.format(zip_size, A.nnz))\n",
        "plt.spy(A, markersize=2, color='black');"
      ],
      "execution_count": 4,
      "outputs": [
        {
          "output_type": "stream",
          "text": [
            "(174, 16384)\n",
            "['arr_0', 'arr_1']\n",
            "(174, 16384)\n",
            "(174,)\n",
            "--> Reshape data\n"
          ],
          "name": "stdout"
        },
        {
          "output_type": "display_data",
          "data": {
            "image/png": "[encoded data removed]",
            "text/plain": [
              "<Figure size 432x288 with 1 Axes>"
            ]
          },
          "metadata": {
            "tags": [],
            "needs_background": "light"
          }
        },
        {
          "output_type": "display_data",
          "data": {
            "image/png": "[encoded data removed]",
            "text/plain": [
              "<Figure size 432x288 with 1 Axes>"
            ]
          },
          "metadata": {
            "tags": [],
            "needs_background": "light"
          }
        },
        {
          "output_type": "display_data",
          "data": {
            "image/png": "[encoded data removed]",
            "text/plain": [
              "<Figure size 432x288 with 1 Axes>"
            ]
          },
          "metadata": {
            "tags": [],
            "needs_background": "light"
          }
        },
        {
          "output_type": "stream",
          "text": [
            "[0. 1.]\n",
            "--> Get distance graph\n",
            "d = |V| = 128, k|V| < |E| = 193312\n"
          ],
          "name": "stdout"
        },
        {
          "output_type": "display_data",
          "data": {
            "image/png": "[encoded data removed]",
            "text/plain": [
              "<Figure size 432x288 with 1 Axes>"
            ]
          },
          "metadata": {
            "tags": [],
            "needs_background": "light"
          }
        }
      ]
    },
    {
      "cell_type": "markdown",
      "metadata": {
        "id": "uoKk77Y_PfWK",
        "colab_type": "text"
      },
      "source": [
        "## Train"
      ]
    },
    {
      "cell_type": "code",
      "metadata": {
        "id": "FaVIbB4jpJUi",
        "colab_type": "code",
        "outputId": "fc62e2bb-580f-463d-9dee-2f657e621b48",
        "colab": {
          "base_uri": "https://localhost:8080/",
          "height": 233
        }
      },
      "source": [
        "print('--> Get laplacian matrix')\n",
        "graphs, perm = coarsening.coarsen(A, levels=3, self_connections=True)\n",
        "X_train = coarsening.perm_data(X_train, perm)\n",
        "print(X_train.shape)\n",
        "X_val = coarsening.perm_data(X_val, perm)\n",
        "print(X_val.shape)\n",
        "X_test = coarsening.perm_data(X_test, perm)\n",
        "print(X_test.shape)"
      ],
      "execution_count": 5,
      "outputs": [
        {
          "output_type": "stream",
          "text": [
            "--> Get laplacian matrix\n"
          ],
          "name": "stdout"
        },
        {
          "output_type": "stream",
          "text": [
            "/content/drive/My Drive/DL_DATA_GRAPH/BUILD/cnn_graph/lib/coarsening.py:152: RuntimeWarning: divide by zero encountered in true_divide\n",
            "  tval = vv[rs+jj] * (1.0/weights[tid] + 1.0/weights[nid])\n",
            "/content/drive/My Drive/DL_DATA_GRAPH/BUILD/cnn_graph/lib/coarsening.py:152: RuntimeWarning: divide by zero encountered in true_divide\n",
            "  tval = vv[rs+jj] * (1.0/weights[tid] + 1.0/weights[nid])\n"
          ],
          "name": "stderr"
        },
        {
          "output_type": "stream",
          "text": [
            "Layer 0: M_0 = |V| = 127072 nodes (110688 added),|E| = 96656 edges\n",
            "Layer 1: M_1 = |V| = 63536 nodes (47356 added),|E| = 96556 edges\n",
            "Layer 2: M_2 = |V| = 31768 nodes (15757 added),|E| = 96078 edges\n",
            "Layer 3: M_3 = |V| = 15884 nodes (0 added),|E| = 95621 edges\n",
            "(139, 127072)\n",
            "(8, 127072)\n",
            "(27, 127072)\n"
          ],
          "name": "stdout"
        }
      ]
    },
    {
      "cell_type": "code",
      "metadata": {
        "id": "lKwoS5I0ub2e",
        "colab_type": "code",
        "colab": {}
      },
      "source": [
        "L = [graph.laplacian(A, normalized=True) for A in graphs]"
      ],
      "execution_count": 0,
      "outputs": []
    },
    {
      "cell_type": "code",
      "metadata": {
        "id": "ZGn1wtFvpaeb",
        "colab_type": "code",
        "colab": {}
      },
      "source": [
        "params = dict()\n",
        "params['dir_name']       = 'demo'\n",
        "params['num_epochs']     = 32\n",
        "params['batch_size']     = 6\n",
        "params['eval_frequency'] = 100\n",
        "\n",
        "# Building blocks.\n",
        "params['filter']         = 'chebyshev2'\n",
        "params['brelu']          = 'b2relu'\n",
        "params['pool']           = 'mpool1'\n",
        "\n",
        "# Number of classes.\n",
        "C = y.max() + 1\n",
        "assert C == np.unique(y).size\n",
        "\n",
        "# Architecture.\n",
        "params['F']              = [32, 32]  # Number of graph convolutional filters.\n",
        "params['K']              = [16, 16]  # Polynomial orders.\n",
        "params['p']              = [4, 2]    # Pooling sizes.\n",
        "params['M']              = [2000, C]  # Output dimensionality of fully connected layers.\n",
        "\n",
        "# Optimization.\n",
        "params['regularization'] = 5e-4\n",
        "params['dropout']        = 1\n",
        "params['learning_rate']  = 1e-3\n",
        "params['decay_rate']     = 0.95\n",
        "params['momentum']       = 0\n",
        "params['decay_steps']    = n_train / params['batch_size']"
      ],
      "execution_count": 0,
      "outputs": []
    },
    {
      "cell_type": "code",
      "metadata": {
        "id": "NNrt9IQGs6mJ",
        "colab_type": "code",
        "outputId": "c24677ef-c651-4bbf-8e16-7ee86e58c4fa",
        "colab": {
          "base_uri": "https://localhost:8080/",
          "height": 1000
        }
      },
      "source": [
        "model = models.cgcnn(L, **params)\n",
        "accuracy, loss, t_step = model.fit(X_train, y_train, X_val, y_val)"
      ],
      "execution_count": 8,
      "outputs": [
        {
          "output_type": "stream",
          "text": [
            "NN architecture\n",
            "  input: M_0 = 127072\n",
            "  layer 1: cgconv1\n",
            "    representation: M_0 * F_1 / p_1 = 127072 * 32 / 4 = 1016576\n",
            "    weights: F_0 * F_1 * K_1 = 1 * 32 * 16 = 512\n",
            "    biases: M_1 * F_1 = 127072 * 32 = 4066304\n",
            "  layer 2: cgconv2\n",
            "    representation: M_1 * F_2 / p_2 = 31768 * 32 / 2 = 508288\n",
            "    weights: F_1 * F_2 * K_2 = 32 * 32 * 16 = 16384\n",
            "    biases: M_2 * F_2 = 31768 * 32 = 1016576\n",
            "  layer 3: fc1\n",
            "    representation: M_3 = 2000\n",
            "    weights: M_2 * M_3 = 508288 * 2000 = 1016576000\n",
            "    biases: M_3 = 2000\n",
            "  layer 4: logits (softmax)\n",
            "    representation: M_4 = 2.0\n",
            "    weights: M_3 * M_4 = 2000 * 2.0 = 4000.0\n",
            "    biases: M_4 = 2.0\n",
            "WARNING:tensorflow:From /content/drive/My Drive/DL_DATA_GRAPH/BUILD/cnn_graph/lib/models.py:156: The name tf.placeholder is deprecated. Please use tf.compat.v1.placeholder instead.\n",
            "\n",
            "WARNING:tensorflow:From /content/drive/My Drive/DL_DATA_GRAPH/BUILD/cnn_graph/lib/models.py:954: The name tf.variable_scope is deprecated. Please use tf.compat.v1.variable_scope instead.\n",
            "\n",
            "WARNING:tensorflow:From /content/drive/My Drive/DL_DATA_GRAPH/BUILD/cnn_graph/lib/models.py:870: py_func (from tensorflow.python.ops.script_ops) is deprecated and will be removed in a future version.\n",
            "Instructions for updating:\n",
            "tf.py_func is deprecated in TF V2. Instead, there are two\n",
            "    options available in V2.\n",
            "    - tf.py_function takes a python function which manipulates tf eager\n",
            "    tensors instead of numpy arrays. It's easy to convert a tf eager tensor to\n",
            "    an ndarray (just call tensor.numpy()) but having access to eager tensors\n",
            "    means `tf.py_function`s can use accelerators such as GPUs as well as\n",
            "    being differentiable using a gradient tape.\n",
            "    - tf.numpy_function maintains the semantics of the deprecated tf.py_func\n",
            "    (it is not differentiable, and manipulates numpy arrays). It drops the\n",
            "    stateful argument making all functions stateful.\n",
            "    \n",
            "WARNING:tensorflow:From /content/drive/My Drive/DL_DATA_GRAPH/BUILD/cnn_graph/lib/models.py:274: The name tf.get_variable is deprecated. Please use tf.compat.v1.get_variable instead.\n",
            "\n",
            "WARNING:tensorflow:From /content/drive/My Drive/DL_DATA_GRAPH/BUILD/cnn_graph/lib/models.py:277: The name tf.summary.histogram is deprecated. Please use tf.compat.v1.summary.histogram instead.\n",
            "\n",
            "WARNING:tensorflow:From /content/drive/My Drive/DL_DATA_GRAPH/BUILD/cnn_graph/lib/models.py:927: The name tf.nn.max_pool is deprecated. Please use tf.nn.max_pool2d instead.\n",
            "\n",
            "WARNING:tensorflow:From /content/drive/My Drive/DL_DATA_GRAPH/BUILD/cnn_graph/lib/models.py:968: calling dropout (from tensorflow.python.ops.nn_ops) with keep_prob is deprecated and will be removed in a future version.\n",
            "Instructions for updating:\n",
            "Please use `rate` instead of `keep_prob`. Rate should be set to `rate = 1 - keep_prob`.\n",
            "WARNING:tensorflow:From /content/drive/My Drive/DL_DATA_GRAPH/BUILD/cnn_graph/lib/models.py:209: to_int64 (from tensorflow.python.ops.math_ops) is deprecated and will be removed in a future version.\n",
            "Instructions for updating:\n",
            "Use `tf.cast` instead.\n",
            "WARNING:tensorflow:From /content/drive/My Drive/DL_DATA_GRAPH/BUILD/cnn_graph/lib/models.py:217: The name tf.summary.scalar is deprecated. Please use tf.compat.v1.summary.scalar instead.\n",
            "\n",
            "WARNING:tensorflow:From /content/drive/My Drive/DL_DATA_GRAPH/BUILD/cnn_graph/lib/models.py:236: The name tf.train.exponential_decay is deprecated. Please use tf.compat.v1.train.exponential_decay instead.\n",
            "\n",
            "WARNING:tensorflow:From /content/drive/My Drive/DL_DATA_GRAPH/BUILD/cnn_graph/lib/models.py:241: The name tf.train.GradientDescentOptimizer is deprecated. Please use tf.compat.v1.train.GradientDescentOptimizer instead.\n",
            "\n",
            "warning: conv1/weights has no gradient\n",
            "warning: conv1/bias has no gradient\n",
            "WARNING:tensorflow:From /content/drive/My Drive/DL_DATA_GRAPH/BUILD/cnn_graph/lib/models.py:168: The name tf.global_variables_initializer is deprecated. Please use tf.compat.v1.global_variables_initializer instead.\n",
            "\n",
            "WARNING:tensorflow:From /content/drive/My Drive/DL_DATA_GRAPH/BUILD/cnn_graph/lib/models.py:171: The name tf.summary.merge_all is deprecated. Please use tf.compat.v1.summary.merge_all instead.\n",
            "\n",
            "WARNING:tensorflow:From /content/drive/My Drive/DL_DATA_GRAPH/BUILD/cnn_graph/lib/models.py:172: The name tf.train.Saver is deprecated. Please use tf.compat.v1.train.Saver instead.\n",
            "\n",
            "WARNING:tensorflow:From /content/drive/My Drive/DL_DATA_GRAPH/BUILD/cnn_graph/lib/models.py:85: The name tf.Session is deprecated. Please use tf.compat.v1.Session instead.\n",
            "\n",
            "WARNING:tensorflow:From /content/drive/My Drive/DL_DATA_GRAPH/BUILD/cnn_graph/lib/models.py:87: The name tf.summary.FileWriter is deprecated. Please use tf.compat.v1.summary.FileWriter instead.\n",
            "\n",
            "step 100 / 741 (epoch 4.32 / 32):\n",
            "  learning_rate = 8.15e-04, loss_average = 1.97e+03\n",
            "  validation accuracy: 25.00 (2 / 8), f1 (weighted): 25.00, loss: 2.95e+03\n",
            "  time: 4674s (wall 203s)\n",
            "WARNING:tensorflow:From /content/drive/My Drive/DL_DATA_GRAPH/BUILD/cnn_graph/lib/models.py:123: The name tf.Summary is deprecated. Please use tf.compat.v1.Summary instead.\n",
            "\n",
            "step 200 / 741 (epoch 8.63 / 32):\n",
            "  learning_rate = 6.63e-04, loss_average = 1.97e+03\n",
            "  validation accuracy: 87.50 (7 / 8), f1 (weighted): 81.67, loss: 2.95e+03\n",
            "  time: 9303s (wall 506s)\n",
            "step 300 / 741 (epoch 12.95 / 32):\n",
            "  learning_rate = 5.40e-04, loss_average = 1.97e+03\n",
            "  validation accuracy: 62.50 (5 / 8), f1 (weighted): 68.64, loss: 2.95e+03\n",
            "  time: 13914s (wall 823s)\n",
            "step 400 / 741 (epoch 17.27 / 32):\n",
            "  learning_rate = 4.18e-04, loss_average = 1.97e+03\n",
            "  validation accuracy: 50.00 (4 / 8), f1 (weighted): 56.67, loss: 2.95e+03\n",
            "  time: 18310s (wall 1130s)\n",
            "step 500 / 741 (epoch 21.58 / 32):\n",
            "  learning_rate = 3.41e-04, loss_average = 1.97e+03\n",
            "  validation accuracy: 62.50 (5 / 8), f1 (weighted): 68.64, loss: 2.95e+03\n",
            "  time: 22614s (wall 1441s)\n",
            "step 600 / 741 (epoch 25.90 / 32):\n",
            "  learning_rate = 2.77e-04, loss_average = 1.97e+03\n",
            "  validation accuracy: 62.50 (5 / 8), f1 (weighted): 68.64, loss: 2.95e+03\n",
            "  time: 26954s (wall 1756s)\n",
            "WARNING:tensorflow:From /tensorflow-1.15.2/python3.6/tensorflow_core/python/training/saver.py:963: remove_checkpoint (from tensorflow.python.training.checkpoint_management) is deprecated and will be removed in a future version.\n",
            "Instructions for updating:\n",
            "Use standard file APIs to delete files with this prefix.\n",
            "step 700 / 741 (epoch 30.22 / 32):\n",
            "  learning_rate = 2.15e-04, loss_average = 1.97e+03\n",
            "  validation accuracy: 87.50 (7 / 8), f1 (weighted): 89.10, loss: 2.95e+03\n",
            "  time: 31125s (wall 2064s)\n",
            "step 741 / 741 (epoch 31.99 / 32):\n",
            "  learning_rate = 2.04e-04, loss_average = 1.97e+03\n",
            "  validation accuracy: 75.00 (6 / 8), f1 (weighted): 79.17, loss: 2.95e+03\n",
            "  time: 32939s (wall 2247s)\n",
            "validation accuracy: peak = 87.50, mean = 64.06\n"
          ],
          "name": "stdout"
        }
      ]
    },
    {
      "cell_type": "code",
      "metadata": {
        "id": "HR2L4Q7etAdp",
        "colab_type": "code",
        "outputId": "01c5cd74-bae2-4353-bd13-97963e8da33c",
        "colab": {
          "base_uri": "https://localhost:8080/",
          "height": 321
        }
      },
      "source": [
        "fig, ax1 = plt.subplots(figsize=(15, 5))\n",
        "ax1.plot(accuracy, 'b.-')\n",
        "ax1.set_ylabel('validation accuracy', color='b')\n",
        "ax2 = ax1.twinx()\n",
        "ax2.plot(loss, 'g.-')\n",
        "ax2.set_ylabel('training loss', color='g')\n",
        "plt.show()"
      ],
      "execution_count": 9,
      "outputs": [
        {
          "output_type": "display_data",
          "data": {
            "image/png": "[encoded data removed]",
            "text/plain": [
              "<Figure size 1080x360 with 2 Axes>"
            ]
          },
          "metadata": {
            "tags": [],
            "needs_background": "light"
          }
        }
      ]
    },
    {
      "cell_type": "code",
      "metadata": {
        "id": "_SJdlx4otEwh",
        "colab_type": "code",
        "outputId": "f57e52c6-3d8c-4feb-ed92-714d92750b9b",
        "colab": {
          "base_uri": "https://localhost:8080/",
          "height": 35
        }
      },
      "source": [
        "print('Time per step: {:.2f} ms'.format(t_step*1000))"
      ],
      "execution_count": 10,
      "outputs": [
        {
          "output_type": "stream",
          "text": [
            "Time per step: 3173.81 ms\n"
          ],
          "name": "stdout"
        }
      ]
    },
    {
      "cell_type": "code",
      "metadata": {
        "id": "c12zxdBd-O_m",
        "colab_type": "code",
        "outputId": "ec7d10f0-df26-4a49-cf36-57f93e00c84a",
        "colab": {
          "base_uri": "https://localhost:8080/",
          "height": 215
        }
      },
      "source": [
        "print(X_test.shape, y_test.shape)\n",
        "acc_per_class = {}\n",
        "for id_class in np.unique(y):\n",
        "    acc_per_class[id_class] = []\n",
        "\n",
        "for graph, label in zip(X_test, y_test):\n",
        "    acc_per_class[label].append(graph)\n",
        "\n",
        "\n",
        "for id_class in np.unique(y):\n",
        "    acc_per_class[id_class] = np.array(acc_per_class[id_class])\n",
        "    acc_hape = acc_per_class[id_class].shape\n",
        "    labels = np.empty(acc_hape[0])\n",
        "    labels.fill(id_class)\n",
        "    print(\"############ Class {}\".format(id_class))\n",
        "    print(acc_hape)\n",
        "    print(model.evaluate(acc_per_class[id_class], labels)[0])\n"
      ],
      "execution_count": 11,
      "outputs": [
        {
          "output_type": "stream",
          "text": [
            "(27, 127072) (27,)\n",
            "############ Class 0.0\n",
            "(10, 127072)\n",
            "INFO:tensorflow:Restoring parameters from /content/drive/My Drive/DL_DATA_GRAPH/BUILD/cnn_graph/lib/../checkpoints/demo/model-741\n",
            "accuracy: 20.00 (2 / 10), f1 (weighted): 33.33, loss: 2.36e+03\n",
            "time: 19s (wall 6s)\n",
            "############ Class 1.0\n",
            "(17, 127072)\n",
            "INFO:tensorflow:Restoring parameters from /content/drive/My Drive/DL_DATA_GRAPH/BUILD/cnn_graph/lib/../checkpoints/demo/model-741\n",
            "accuracy: 70.59 (12 / 17), f1 (weighted): 82.76, loss: 2.08e+03\n",
            "time: 30s (wall 93s)\n"
          ],
          "name": "stdout"
        }
      ]
    },
    {
      "cell_type": "code",
      "metadata": {
        "id": "VN_abqdZtG8-",
        "colab_type": "code",
        "outputId": "744e34f1-ecaa-422a-a7ab-0240b32e0c9a",
        "colab": {
          "base_uri": "https://localhost:8080/",
          "height": 71
        }
      },
      "source": [
        "res = model.evaluate(X_test, y_test)\n",
        "print(res[0])"
      ],
      "execution_count": 12,
      "outputs": [
        {
          "output_type": "stream",
          "text": [
            "INFO:tensorflow:Restoring parameters from /content/drive/My Drive/DL_DATA_GRAPH/BUILD/cnn_graph/lib/../checkpoints/demo/model-741\n",
            "accuracy: 51.85 (14 / 27), f1 (weighted): 49.56, loss: 2.18e+03\n",
            "time: 46s (wall 147s)\n"
          ],
          "name": "stdout"
        }
      ]
    }
  ]
}