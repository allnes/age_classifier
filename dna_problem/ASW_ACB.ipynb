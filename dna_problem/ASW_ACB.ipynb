{
  "nbformat": 4,
  "nbformat_minor": 0,
  "metadata": {
    "colab": {
      "name": "pcam_train.ipynb",
      "provenance": [],
      "machine_shape": "hm",
      "include_colab_link": true
    },
    "kernelspec": {
      "name": "python3",
      "display_name": "Python 3"
    },
    "accelerator": "TPU"
  },
  "cells": [
    {
      "cell_type": "markdown",
      "metadata": {
        "id": "view-in-github",
        "colab_type": "text"
      },
      "source": [
        "<a href=\"https://colab.research.google.com/github/allnes/age_classifier/blob/master/dna_problem/ASW_ACB.ipynb\" target=\"_parent\"><img src=\"https://colab.research.google.com/assets/colab-badge.svg\" alt=\"Open In Colab\"/></a>"
      ]
    },
    {
      "cell_type": "markdown",
      "metadata": {
        "id": "-6Xki-tu-rQH",
        "colab_type": "text"
      },
      "source": [
        "## Connect to Google Drive"
      ]
    },
    {
      "cell_type": "code",
      "metadata": {
        "id": "_nMY9IssT-NZ",
        "colab_type": "code",
        "outputId": "af6dcd4f-cfd5-4c13-c859-76c720500195",
        "colab": {
          "base_uri": "https://localhost:8080/",
          "height": 343
        }
      },
      "source": [
        "%tensorflow_version 1.x\n",
        "\n",
        "from google.colab import drive\n",
        "import os, natsort as nsrt, numpy as np, re\n",
        "from scipy.sparse import coo_matrix, csgraph, csr_matrix\n",
        "import matplotlib.pyplot as plt\n",
        "import cv2 as cv\n",
        "import scipy\n",
        "!pip install -U scikit-learn\n",
        "import sklearn\n",
        "import math\n",
        "drive.mount('/content/drive')\n",
        "PATH_PROJECT='/content/drive/My Drive/DL_DATA_GRAPH/'\n",
        "PATH_CNN_REPO=PATH_PROJECT + 'BUILD/cnn_graph/'\n",
        "os.chdir(PATH_CNN_REPO)\n",
        "from lib import models, graph, coarsening, utils\n",
        "%ls\n",
        "\n",
        "# !git clone https://github.com/mdeff/cnn_graph\n",
        "!git pull origin master\n",
        "\n",
        "os.chdir(PATH_PROJECT)\n",
        "%ls\n",
        "%matplotlib inline"
      ],
      "execution_count": 1,
      "outputs": [
        {
          "output_type": "stream",
          "text": [
            "TensorFlow 1.x selected.\n",
            "Requirement already up-to-date: scikit-learn in /usr/local/lib/python3.6/dist-packages (0.22.2.post1)\n",
            "Requirement already satisfied, skipping upgrade: scipy>=0.17.0 in /usr/local/lib/python3.6/dist-packages (from scikit-learn) (1.4.1)\n",
            "Requirement already satisfied, skipping upgrade: numpy>=1.11.0 in /usr/local/lib/python3.6/dist-packages (from scikit-learn) (1.18.3)\n",
            "Requirement already satisfied, skipping upgrade: joblib>=0.11 in /usr/local/lib/python3.6/dist-packages (from scikit-learn) (0.14.1)\n",
            "Go to this URL in a browser: https://accounts.google.com/o/oauth2/auth?client_id=947318989803-6bn6qk8qdgf4n4g3pfee6491hc0brc4i.apps.googleusercontent.com&redirect_uri=urn%3aietf%3awg%3aoauth%3a2.0%3aoob&response_type=code&scope=email%20https%3a%2f%2fwww.googleapis.com%2fauth%2fdocs.test%20https%3a%2f%2fwww.googleapis.com%2fauth%2fdrive%20https%3a%2f%2fwww.googleapis.com%2fauth%2fdrive.photos.readonly%20https%3a%2f%2fwww.googleapis.com%2fauth%2fpeopleapi.readonly\n",
            "\n",
            "Enter your authorization code:\n",
            "··········\n",
            "Mounted at /content/drive\n",
            "\u001b[0m\u001b[01;34mcheckpoints\u001b[0m/  makefile    README.md         \u001b[01;34mtrials\u001b[0m/\n",
            "\u001b[01;34mlib\u001b[0m/          \u001b[01;34mnips2016\u001b[0m/   requirements.txt  usage.ipynb\n",
            "LICENSE.txt   rcv1.ipynb  \u001b[01;34msummaries\u001b[0m/\n",
            "From https://github.com/allnes/cnn_graph\n",
            " * branch            master     -> FETCH_HEAD\n",
            "Already up to date.\n",
            "\u001b[0m\u001b[01;34mBUILD\u001b[0m/  \u001b[01;34mDATA\u001b[0m/\n"
          ],
          "name": "stdout"
        }
      ]
    },
    {
      "cell_type": "markdown",
      "metadata": {
        "id": "R0w9O8In_oEO",
        "colab_type": "text"
      },
      "source": [
        "## Preprocessing data"
      ]
    },
    {
      "cell_type": "code",
      "metadata": {
        "id": "flIZlmyt_r9B",
        "colab_type": "code",
        "outputId": "fcb90bb1-4f55-4cd2-bbdc-a880af5519c5",
        "colab": {
          "base_uri": "https://localhost:8080/",
          "height": 1000
        }
      },
      "source": [
        "flag_save_dump = True\n",
        "name_region = 'ASW_ACB'\n",
        "\n",
        "def save_matrix(zip_sz):\n",
        "    PATH_CONVERTED_SAVE_DATA = PATH_PROJECT + 'DATA/DNA_DATA/raw/{}.npz'.format(name_region)\n",
        "    npzfile = np.load(PATH_CONVERTED_SAVE_DATA)\n",
        "    X_full = npzfile['arr_0'].astype(np.float32)\n",
        "    y_full = npzfile['arr_1']\n",
        "    X = []\n",
        "    for graph in X_full:\n",
        "        graph_size = int(math.sqrt(graph.shape[0]))\n",
        "        new_graph = np.copy(graph).reshape(graph_size, graph_size)\n",
        "        new_graph = np.pad(new_graph, pad_width=3, mode='constant', constant_values=0)\n",
        "        X.append(cv.resize(new_graph, \n",
        "                           dsize=(zip_sz, zip_sz), \n",
        "                           interpolation=cv.INTER_CUBIC))\n",
        "    X = np.array(X)\n",
        "    X = X.reshape((X.shape[0], X.shape[1] * X.shape[2]))\n",
        "    print(X.shape)\n",
        "    PATH_CONVERTED_SAVE_DATA = PATH_PROJECT + 'DATA/DNA_DATA/resize/{}_{}.npz'.format(name_region, zip_sz)\n",
        "    np.savez(PATH_CONVERTED_SAVE_DATA, X, y_full)\n",
        "\n",
        "zip_size = 128\n",
        "\n",
        "if flag_save_dump:\n",
        "    save_matrix(zip_size)\n",
        "\n",
        "PATH_CONVERTED_DATA = PATH_PROJECT + 'DATA/DNA_DATA/resize/{}_{}.npz'.format(name_region, zip_size)\n",
        "\n",
        "npzfile = np.load(PATH_CONVERTED_DATA)\n",
        "print(npzfile.files)\n",
        "X = npzfile['arr_0'].astype(np.float32)\n",
        "y = npzfile['arr_1']\n",
        "num_samples = X.shape[0]\n",
        "print(X.shape)\n",
        "print(y.shape)\n",
        "\n",
        "from sklearn.utils import shuffle\n",
        "X, y = shuffle(X, y)\n",
        "\n",
        "##########################################################\n",
        "\n",
        "print('--> Reshape data')\n",
        "n_train = (num_samples * 4) // 5\n",
        "n_val = num_samples // 25\n",
        "\n",
        "X_train = X[:n_train]\n",
        "X_val   = X[n_train:n_train+n_val]\n",
        "X_test  = X[n_train+n_val:]\n",
        "\n",
        "y_train = y[:n_train]\n",
        "y_val   = y[n_train:n_train+n_val]\n",
        "y_test  = y[n_train+n_val:]\n",
        "\n",
        "plt.title(\"y = {}\".format(y.shape[0]))\n",
        "plt.hist(y, len(np.unique(y)))\n",
        "plt.show()\n",
        "\n",
        "plt.title(\"y_train = {}\".format(y_train.shape[0]))\n",
        "plt.hist(y_train, len(np.unique(y_train)))\n",
        "plt.show()\n",
        "\n",
        "plt.title(\"y_test = {}\".format(y_test.shape[0]))\n",
        "plt.hist(y_test, len(np.unique(y_test)))\n",
        "plt.show()\n",
        "print(np.unique(y))\n",
        "\n",
        "##########################################################\n",
        "\n",
        "def save_dump():\n",
        "    print('--> Get distance graph')\n",
        "    def distance_sklearn_metrics(z, k=6, metric='euclidean'):\n",
        "        \"\"\"Compute exact pairwise distances.\"\"\"\n",
        "        d = sklearn.metrics.pairwise.pairwise_distances(\n",
        "                z, metric=metric, n_jobs=-2)\n",
        "        # k-NN graph.\n",
        "        idx = np.argsort(d)[:, 1:k+1]\n",
        "        d.sort()\n",
        "        d = d[:, 1:k+1]\n",
        "        return d, idx\n",
        "\n",
        "      \n",
        "    dist, idx = distance_sklearn_metrics(X_train.T)\n",
        "    A = graph.adjacency(dist, idx).astype(np.float32)\n",
        "\n",
        "    PATH_DUMP_DATA = PATH_PROJECT + 'DATA/DNA_DATA/dump/{}_dump.npz'.format(name_region)\n",
        "    scipy.sparse.save_npz(PATH_DUMP_DATA, A)\n",
        "\n",
        "if flag_save_dump:\n",
        "    save_dump()\n",
        "\n",
        "PATH_DUMP_LOAD_DATA = PATH_PROJECT + 'DATA/DNA_DATA/dump/{}_dump.npz'.format(name_region)\n",
        "A = scipy.sparse.load_npz(PATH_DUMP_LOAD_DATA)\n",
        "\n",
        "\n",
        "print('d = |V| = {}, k|V| < |E| = {}'.format(zip_size, A.nnz))\n",
        "plt.spy(A, markersize=2, color='black');"
      ],
      "execution_count": 2,
      "outputs": [
        {
          "output_type": "stream",
          "text": [
            "(157, 16384)\n",
            "['arr_0', 'arr_1']\n",
            "(157, 16384)\n",
            "(157,)\n",
            "--> Reshape data\n"
          ],
          "name": "stdout"
        },
        {
          "output_type": "display_data",
          "data": {
            "image/png": "[encoded data removed]",
            "text/plain": [
              "<Figure size 432x288 with 1 Axes>"
            ]
          },
          "metadata": {
            "tags": [],
            "needs_background": "light"
          }
        },
        {
          "output_type": "display_data",
          "data": {
            "image/png": "[encoded data removed]",
            "text/plain": [
              "<Figure size 432x288 with 1 Axes>"
            ]
          },
          "metadata": {
            "tags": [],
            "needs_background": "light"
          }
        },
        {
          "output_type": "display_data",
          "data": {
            "image/png": "[encoded data removed]",
            "text/plain": [
              "<Figure size 432x288 with 1 Axes>"
            ]
          },
          "metadata": {
            "tags": [],
            "needs_background": "light"
          }
        },
        {
          "output_type": "stream",
          "text": [
            "[0. 1.]\n",
            "--> Get distance graph\n",
            "d = |V| = 128, k|V| < |E| = 192012\n"
          ],
          "name": "stdout"
        },
        {
          "output_type": "display_data",
          "data": {
            "image/png": "[encoded data removed]",
            "text/plain": [
              "<Figure size 432x288 with 1 Axes>"
            ]
          },
          "metadata": {
            "tags": [],
            "needs_background": "light"
          }
        }
      ]
    },
    {
      "cell_type": "markdown",
      "metadata": {
        "id": "uoKk77Y_PfWK",
        "colab_type": "text"
      },
      "source": [
        "## Train"
      ]
    },
    {
      "cell_type": "code",
      "metadata": {
        "id": "FaVIbB4jpJUi",
        "colab_type": "code",
        "outputId": "cb077967-f5d2-4dd4-9c94-f273850b938c",
        "colab": {
          "base_uri": "https://localhost:8080/",
          "height": 233
        }
      },
      "source": [
        "print('--> Get laplacian matrix')\n",
        "graphs, perm = coarsening.coarsen(A, levels=3, self_connections=True)\n",
        "X_train = coarsening.perm_data(X_train, perm)\n",
        "print(X_train.shape)\n",
        "X_val = coarsening.perm_data(X_val, perm)\n",
        "print(X_val.shape)\n",
        "X_test = coarsening.perm_data(X_test, perm)\n",
        "print(X_test.shape)"
      ],
      "execution_count": 3,
      "outputs": [
        {
          "output_type": "stream",
          "text": [
            "--> Get laplacian matrix\n"
          ],
          "name": "stdout"
        },
        {
          "output_type": "stream",
          "text": [
            "/content/drive/My Drive/DL_DATA_GRAPH/BUILD/cnn_graph/lib/coarsening.py:152: RuntimeWarning: divide by zero encountered in true_divide\n",
            "  tval = vv[rs+jj] * (1.0/weights[tid] + 1.0/weights[nid])\n",
            "/content/drive/My Drive/DL_DATA_GRAPH/BUILD/cnn_graph/lib/coarsening.py:152: RuntimeWarning: divide by zero encountered in true_divide\n",
            "  tval = vv[rs+jj] * (1.0/weights[tid] + 1.0/weights[nid])\n"
          ],
          "name": "stderr"
        },
        {
          "output_type": "stream",
          "text": [
            "Layer 0: M_0 = |V| = 125592 nodes (109208 added),|E| = 96006 edges\n",
            "Layer 1: M_1 = |V| = 62796 nodes (46734 added),|E| = 95903 edges\n",
            "Layer 2: M_2 = |V| = 31398 nodes (15591 added),|E| = 95116 edges\n",
            "Layer 3: M_3 = |V| = 15699 nodes (0 added),|E| = 94643 edges\n",
            "(125, 125592)\n",
            "(6, 125592)\n",
            "(26, 125592)\n"
          ],
          "name": "stdout"
        }
      ]
    },
    {
      "cell_type": "code",
      "metadata": {
        "id": "lKwoS5I0ub2e",
        "colab_type": "code",
        "colab": {}
      },
      "source": [
        "L = [graph.laplacian(A, normalized=True) for A in graphs]"
      ],
      "execution_count": 0,
      "outputs": []
    },
    {
      "cell_type": "code",
      "metadata": {
        "id": "ZGn1wtFvpaeb",
        "colab_type": "code",
        "colab": {}
      },
      "source": [
        "params = dict()\n",
        "params['dir_name']       = 'demo'\n",
        "params['num_epochs']     = 40\n",
        "params['batch_size']     = 8\n",
        "params['eval_frequency'] = 100\n",
        "\n",
        "# Building blocks.\n",
        "params['filter']         = 'chebyshev5'\n",
        "params['brelu']          = 'b1relu'\n",
        "params['brelu']          = 'b2relu'\n",
        "params['pool']           = 'apool1'\n",
        "params['pool']           = 'mpool1'\n",
        "\n",
        "# Number of classes.\n",
        "C = y.max() + 1\n",
        "assert C == np.unique(y).size\n",
        "\n",
        "# Architecture.\n",
        "params['F']              = [32, 32]  # Number of graph convolutional filters.\n",
        "params['K']              = [16, 16]  # Polynomial orders.\n",
        "params['p']              = [4, 2]    # Pooling sizes.\n",
        "params['M']              = [2000, C]  # Output dimensionality of fully connected layers.\n",
        "\n",
        "# Optimization.\n",
        "params['regularization'] = 5e-4\n",
        "params['dropout']        = 1\n",
        "params['learning_rate']  = 1e-3\n",
        "params['decay_rate']     = 0.95\n",
        "params['momentum']       = 0\n",
        "params['decay_steps']    = n_train / params['batch_size']"
      ],
      "execution_count": 0,
      "outputs": []
    },
    {
      "cell_type": "code",
      "metadata": {
        "id": "NNrt9IQGs6mJ",
        "colab_type": "code",
        "outputId": "8b3f23a6-0928-48a9-9652-92d4ce6f5d2c",
        "colab": {
          "base_uri": "https://localhost:8080/",
          "height": 1000
        }
      },
      "source": [
        "model = models.cgcnn(L, **params)\n",
        "accuracy, loss, t_step = model.fit(X_train, y_train, X_val, y_val)"
      ],
      "execution_count": 6,
      "outputs": [
        {
          "output_type": "stream",
          "text": [
            "NN architecture\n",
            "  input: M_0 = 125592\n",
            "  layer 1: cgconv1\n",
            "    representation: M_0 * F_1 / p_1 = 125592 * 32 / 4 = 1004736\n",
            "    weights: F_0 * F_1 * K_1 = 1 * 32 * 16 = 512\n",
            "    biases: M_1 * F_1 = 125592 * 32 = 4018944\n",
            "  layer 2: cgconv2\n",
            "    representation: M_1 * F_2 / p_2 = 31398 * 32 / 2 = 502368\n",
            "    weights: F_1 * F_2 * K_2 = 32 * 32 * 16 = 16384\n",
            "    biases: M_2 * F_2 = 31398 * 32 = 1004736\n",
            "  layer 3: fc1\n",
            "    representation: M_3 = 2000\n",
            "    weights: M_2 * M_3 = 502368 * 2000 = 1004736000\n",
            "    biases: M_3 = 2000\n",
            "  layer 4: logits (softmax)\n",
            "    representation: M_4 = 2.0\n",
            "    weights: M_3 * M_4 = 2000 * 2.0 = 4000.0\n",
            "    biases: M_4 = 2.0\n",
            "WARNING:tensorflow:From /content/drive/My Drive/DL_DATA_GRAPH/BUILD/cnn_graph/lib/models.py:156: The name tf.placeholder is deprecated. Please use tf.compat.v1.placeholder instead.\n",
            "\n",
            "WARNING:tensorflow:From /content/drive/My Drive/DL_DATA_GRAPH/BUILD/cnn_graph/lib/models.py:954: The name tf.variable_scope is deprecated. Please use tf.compat.v1.variable_scope instead.\n",
            "\n",
            "WARNING:tensorflow:From /content/drive/My Drive/DL_DATA_GRAPH/BUILD/cnn_graph/lib/models.py:888: The name tf.sparse_reorder is deprecated. Please use tf.sparse.reorder instead.\n",
            "\n",
            "WARNING:tensorflow:From /content/drive/My Drive/DL_DATA_GRAPH/BUILD/cnn_graph/lib/models.py:897: The name tf.sparse_tensor_dense_matmul is deprecated. Please use tf.sparse.sparse_dense_matmul instead.\n",
            "\n",
            "WARNING:tensorflow:From /content/drive/My Drive/DL_DATA_GRAPH/BUILD/cnn_graph/lib/models.py:274: The name tf.get_variable is deprecated. Please use tf.compat.v1.get_variable instead.\n",
            "\n",
            "WARNING:tensorflow:From /content/drive/My Drive/DL_DATA_GRAPH/BUILD/cnn_graph/lib/models.py:277: The name tf.summary.histogram is deprecated. Please use tf.compat.v1.summary.histogram instead.\n",
            "\n",
            "WARNING:tensorflow:From /content/drive/My Drive/DL_DATA_GRAPH/BUILD/cnn_graph/lib/models.py:927: The name tf.nn.max_pool is deprecated. Please use tf.nn.max_pool2d instead.\n",
            "\n",
            "WARNING:tensorflow:From /content/drive/My Drive/DL_DATA_GRAPH/BUILD/cnn_graph/lib/models.py:968: calling dropout (from tensorflow.python.ops.nn_ops) with keep_prob is deprecated and will be removed in a future version.\n",
            "Instructions for updating:\n",
            "Please use `rate` instead of `keep_prob`. Rate should be set to `rate = 1 - keep_prob`.\n",
            "WARNING:tensorflow:From /content/drive/My Drive/DL_DATA_GRAPH/BUILD/cnn_graph/lib/models.py:209: to_int64 (from tensorflow.python.ops.math_ops) is deprecated and will be removed in a future version.\n",
            "Instructions for updating:\n",
            "Use `tf.cast` instead.\n",
            "WARNING:tensorflow:From /content/drive/My Drive/DL_DATA_GRAPH/BUILD/cnn_graph/lib/models.py:217: The name tf.summary.scalar is deprecated. Please use tf.compat.v1.summary.scalar instead.\n",
            "\n",
            "WARNING:tensorflow:From /content/drive/My Drive/DL_DATA_GRAPH/BUILD/cnn_graph/lib/models.py:236: The name tf.train.exponential_decay is deprecated. Please use tf.compat.v1.train.exponential_decay instead.\n",
            "\n",
            "WARNING:tensorflow:From /content/drive/My Drive/DL_DATA_GRAPH/BUILD/cnn_graph/lib/models.py:241: The name tf.train.GradientDescentOptimizer is deprecated. Please use tf.compat.v1.train.GradientDescentOptimizer instead.\n",
            "\n",
            "WARNING:tensorflow:From /content/drive/My Drive/DL_DATA_GRAPH/BUILD/cnn_graph/lib/models.py:168: The name tf.global_variables_initializer is deprecated. Please use tf.compat.v1.global_variables_initializer instead.\n",
            "\n",
            "WARNING:tensorflow:From /content/drive/My Drive/DL_DATA_GRAPH/BUILD/cnn_graph/lib/models.py:171: The name tf.summary.merge_all is deprecated. Please use tf.compat.v1.summary.merge_all instead.\n",
            "\n",
            "WARNING:tensorflow:From /content/drive/My Drive/DL_DATA_GRAPH/BUILD/cnn_graph/lib/models.py:172: The name tf.train.Saver is deprecated. Please use tf.compat.v1.train.Saver instead.\n",
            "\n",
            "WARNING:tensorflow:From /content/drive/My Drive/DL_DATA_GRAPH/BUILD/cnn_graph/lib/models.py:85: The name tf.Session is deprecated. Please use tf.compat.v1.Session instead.\n",
            "\n",
            "WARNING:tensorflow:From /content/drive/My Drive/DL_DATA_GRAPH/BUILD/cnn_graph/lib/models.py:87: The name tf.summary.FileWriter is deprecated. Please use tf.compat.v1.summary.FileWriter instead.\n",
            "\n",
            "step 100 / 625 (epoch 6.40 / 40):\n",
            "  learning_rate = 7.35e-04, loss_average = 1.94e+03\n",
            "  validation accuracy: 66.67 (4 / 6), f1 (weighted): 70.83, loss: 2.59e+03\n",
            "  time: 6308s (wall 290s)\n",
            "WARNING:tensorflow:From /content/drive/My Drive/DL_DATA_GRAPH/BUILD/cnn_graph/lib/models.py:123: The name tf.Summary is deprecated. Please use tf.compat.v1.Summary instead.\n",
            "\n",
            "step 200 / 625 (epoch 12.80 / 40):\n",
            "  learning_rate = 5.40e-04, loss_average = 1.94e+03\n",
            "  validation accuracy: 83.33 (5 / 6), f1 (weighted): 75.76, loss: 2.59e+03\n",
            "  time: 12563s (wall 675s)\n",
            "step 300 / 625 (epoch 19.20 / 40):\n",
            "  learning_rate = 3.77e-04, loss_average = 1.94e+03\n",
            "  validation accuracy: 83.33 (5 / 6), f1 (weighted): 75.76, loss: 2.59e+03\n",
            "  time: 18954s (wall 1093s)\n",
            "step 400 / 625 (epoch 25.60 / 40):\n",
            "  learning_rate = 2.77e-04, loss_average = 1.94e+03\n",
            "  validation accuracy: 100.00 (6 / 6), f1 (weighted): 100.00, loss: 2.59e+03\n",
            "  time: 25144s (wall 1498s)\n",
            "step 500 / 625 (epoch 32.00 / 40):\n",
            "  learning_rate = 2.04e-04, loss_average = 1.94e+03\n",
            "  validation accuracy: 100.00 (6 / 6), f1 (weighted): 100.00, loss: 2.59e+03\n",
            "  time: 31431s (wall 1918s)\n",
            "step 600 / 625 (epoch 38.40 / 40):\n",
            "  learning_rate = 1.42e-04, loss_average = 1.94e+03\n",
            "  validation accuracy: 100.00 (6 / 6), f1 (weighted): 100.00, loss: 2.59e+03\n",
            "  time: 37669s (wall 2340s)\n",
            "WARNING:tensorflow:From /tensorflow-1.15.2/python3.6/tensorflow_core/python/training/saver.py:963: remove_checkpoint (from tensorflow.python.training.checkpoint_management) is deprecated and will be removed in a future version.\n",
            "Instructions for updating:\n",
            "Use standard file APIs to delete files with this prefix.\n",
            "step 625 / 625 (epoch 40.00 / 40):\n",
            "  learning_rate = 1.35e-04, loss_average = 1.94e+03\n",
            "  validation accuracy: 100.00 (6 / 6), f1 (weighted): 100.00, loss: 2.59e+03\n",
            "  time: 39399s (wall 2523s)\n",
            "validation accuracy: peak = 100.00, mean = 90.48\n"
          ],
          "name": "stdout"
        }
      ]
    },
    {
      "cell_type": "code",
      "metadata": {
        "id": "HR2L4Q7etAdp",
        "colab_type": "code",
        "outputId": "ee06bdcb-3288-48d5-d929-f1c2b038d008",
        "colab": {
          "base_uri": "https://localhost:8080/",
          "height": 320
        }
      },
      "source": [
        "fig, ax1 = plt.subplots(figsize=(15, 5))\n",
        "ax1.plot(accuracy, 'b.-')\n",
        "ax1.set_ylabel('validation accuracy', color='b')\n",
        "ax2 = ax1.twinx()\n",
        "ax2.plot(loss, 'g.-')\n",
        "ax2.set_ylabel('training loss', color='g')\n",
        "plt.show()"
      ],
      "execution_count": 7,
      "outputs": [
        {
          "output_type": "display_data",
          "data": {
            "image/png": "[encoded data removed]",
            "text/plain": [
              "<Figure size 1080x360 with 2 Axes>"
            ]
          },
          "metadata": {
            "tags": [],
            "needs_background": "light"
          }
        }
      ]
    },
    {
      "cell_type": "code",
      "metadata": {
        "id": "_SJdlx4otEwh",
        "colab_type": "code",
        "outputId": "8ef593c9-2161-4827-c7d1-93882e798e3d",
        "colab": {
          "base_uri": "https://localhost:8080/",
          "height": 35
        }
      },
      "source": [
        "print('Time per step: {:.2f} ms'.format(t_step*1000))"
      ],
      "execution_count": 8,
      "outputs": [
        {
          "output_type": "stream",
          "text": [
            "Time per step: 4204.25 ms\n"
          ],
          "name": "stdout"
        }
      ]
    },
    {
      "cell_type": "code",
      "metadata": {
        "id": "c12zxdBd-O_m",
        "colab_type": "code",
        "outputId": "3119f573-04fc-4fca-802d-47f252fa9527",
        "colab": {
          "base_uri": "https://localhost:8080/",
          "height": 215
        }
      },
      "source": [
        "print(X_test.shape, y_test.shape)\n",
        "acc_per_class = {}\n",
        "for id_class in np.unique(y):\n",
        "    acc_per_class[id_class] = []\n",
        "\n",
        "for graph, label in zip(X_test, y_test):\n",
        "    acc_per_class[label].append(graph)\n",
        "\n",
        "\n",
        "for id_class in np.unique(y):\n",
        "    acc_per_class[id_class] = np.array(acc_per_class[id_class])\n",
        "    acc_hape = acc_per_class[id_class].shape\n",
        "    labels = np.empty(acc_hape[0])\n",
        "    labels.fill(id_class)\n",
        "    print(\"############ Class {}\".format(id_class))\n",
        "    print(acc_hape)\n",
        "    print(model.evaluate(acc_per_class[id_class], labels)[0])\n"
      ],
      "execution_count": 9,
      "outputs": [
        {
          "output_type": "stream",
          "text": [
            "(26, 125592) (26,)\n",
            "############ Class 0.0\n",
            "(10, 125592)\n",
            "INFO:tensorflow:Restoring parameters from /content/drive/My Drive/DL_DATA_GRAPH/BUILD/cnn_graph/lib/../checkpoints/demo/model-625\n",
            "accuracy: 20.00 (2 / 10), f1 (weighted): 33.33, loss: 3.11e+03\n",
            "time: 31s (wall 8s)\n",
            "############ Class 1.0\n",
            "(16, 125592)\n",
            "INFO:tensorflow:Restoring parameters from /content/drive/My Drive/DL_DATA_GRAPH/BUILD/cnn_graph/lib/../checkpoints/demo/model-625\n",
            "accuracy: 81.25 (13 / 16), f1 (weighted): 89.66, loss: 1.94e+03\n",
            "time: 32s (wall 17s)\n"
          ],
          "name": "stdout"
        }
      ]
    },
    {
      "cell_type": "code",
      "metadata": {
        "id": "VN_abqdZtG8-",
        "colab_type": "code",
        "outputId": "41b41fbc-043c-4101-fa14-8a6d8c1e2c8f",
        "colab": {
          "base_uri": "https://localhost:8080/",
          "height": 71
        }
      },
      "source": [
        "res = model.evaluate(X_test, y_test)\n",
        "print(res[0])"
      ],
      "execution_count": 10,
      "outputs": [
        {
          "output_type": "stream",
          "text": [
            "INFO:tensorflow:Restoring parameters from /content/drive/My Drive/DL_DATA_GRAPH/BUILD/cnn_graph/lib/../checkpoints/demo/model-625\n",
            "accuracy: 57.69 (15 / 26), f1 (weighted): 53.50, loss: 2.39e+03\n",
            "time: 62s (wall 120s)\n"
          ],
          "name": "stdout"
        }
      ]
    }
  ]
}